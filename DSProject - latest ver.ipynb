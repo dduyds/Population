{
 "cells": [
  {
   "attachments": {},
   "cell_type": "markdown",
   "metadata": {},
   "source": [
    "# Population analysis of Asia and North America from 1955-2020\n",
    "## Group 07 - Members\n",
    "\n",
    "| **No**  | **Student ID** | **Full Name**         |\n",
    "| ------- | -------------- | ----------------------|\n",
    "| 1       | 20127452       | Hồ Đăng Cao           |\n",
    "| 2       | 20127449       | Trần Quốc Bảo         |\n",
    "| 3       | 20127476\t   | Đỗ Đức Duy            |\n",
    "| 4       | 20127327       | Ngô Hữu Nhật Thanh    |"
   ]
  },
  {
   "cell_type": "markdown",
   "metadata": {},
   "source": [
    "---"
   ]
  },
  {
   "cell_type": "markdown",
   "metadata": {},
   "source": [
    "## Import the necessary libraries"
   ]
  },
  {
   "cell_type": "code",
   "execution_count": 2,
   "metadata": {},
   "outputs": [],
   "source": [
    "from bs4 import BeautifulSoup\n",
    "from selenium import webdriver\n",
    "import re\n",
    "\n",
    "import pandas as pd\n",
    "import numpy as np\n",
    "import matplotlib.pyplot as plt "
   ]
  },
  {
   "cell_type": "markdown",
   "metadata": {},
   "source": [
    "---"
   ]
  },
  {
   "cell_type": "markdown",
   "metadata": {},
   "source": [
    "## Crawling population data from web\n",
    "The dataset used for population analysising is collected from links in [Danso.org](https://danso.org/the-gioi/)\n",
    "\n",
    "To crawling data, we go through 2 stages:\n",
    "\n",
    "`stage 1:` Get list of links containing data of each country in area.\n",
    "\n",
    "`stage 2:` Browse through each site in links list to crawling data.\n"
   ]
  },
  {
   "cell_type": "markdown",
   "metadata": {},
   "source": [
    "### Stage 1: Get list of links containing df of each country in area."
   ]
  },
  {
   "cell_type": "markdown",
   "metadata": {},
   "source": [
    "- Get chrome driver to browse in `Chrome`"
   ]
  },
  {
   "cell_type": "code",
   "execution_count": 2,
   "metadata": {},
   "outputs": [],
   "source": [
    "browser = webdriver.Chrome(executable_path=\"./chromedriver.exe\")\n",
    "# browser = webdriver.Chrome()"
   ]
  },
  {
   "cell_type": "markdown",
   "metadata": {},
   "source": [
    "- Build function to get `html doc` from website"
   ]
  },
  {
   "cell_type": "code",
   "execution_count": 3,
   "metadata": {},
   "outputs": [],
   "source": [
    "def get_html_from_link(link):\n",
    "    browser.get(link)\n",
    "    browser.implicitly_wait(20)\n",
    "    browser.minimize_window()\n",
    "\n",
    "    return BeautifulSoup(browser.page_source, \"html.parser\")"
   ]
  },
  {
   "cell_type": "markdown",
   "metadata": {},
   "source": [
    "- Access `the-gioi page` to get list of `countries' raw links` (in html)"
   ]
  },
  {
   "cell_type": "code",
   "execution_count": 4,
   "metadata": {},
   "outputs": [],
   "source": [
    "html_text = get_html_from_link(\"https://danso.org/the-gioi/\")\n",
    "links = html_text.find_all('h3')[:56]\n",
    "links[0]"
   ]
  },
  {
   "cell_type": "markdown",
   "metadata": {},
   "source": [
    "- Get `links` from `raw links`"
   ]
  },
  {
   "cell_type": "code",
   "execution_count": 5,
   "metadata": {},
   "outputs": [],
   "source": [
    "links = list(map(lambda link: re.findall(\"<a href=\\\"([\\w.:/-]+)\\\">\",str(link))[0], links))\n",
    "links[0]"
   ]
  },
  {
   "cell_type": "markdown",
   "metadata": {},
   "source": [
    "- Get `countries' names` from `links`"
   ]
  },
  {
   "cell_type": "code",
   "execution_count": 6,
   "metadata": {},
   "outputs": [],
   "source": [
    "country_name = list(map(lambda x: re.findall('/([\\w-]+)/',str(x))[0], links))\n",
    "country_name[0]"
   ]
  },
  {
   "cell_type": "markdown",
   "metadata": {},
   "source": [
    "### Stage 2: Browse through each site in links list to crawling df."
   ]
  },
  {
   "cell_type": "markdown",
   "metadata": {},
   "source": [
    "At each country, there are 13 attributes, include: `Year, Population, %Change, Change, Migrate, Average age, Birth rate, Density, %urban resident, Urban resident, %world population, world population and rank`. Or only 10 attributes, without: `Average age, Birth rate, Density`.\n",
    "\n",
    "In this project, we only care about: `Year, Population, Change, Migrate, Urban_resident`."
   ]
  },
  {
   "cell_type": "markdown",
   "metadata": {},
   "source": [
    "There are 2 main function in this stage:\n",
    "\n",
    "- `get_table` function: Get list of data line from html text\n",
    "\n",
    "| **No**  | **Description**| **Content**           |\n",
    "| ------- | -------------- | ----------------------|\n",
    "| 1       | Input          | `html_text` (str): raw html text of website           |\n",
    "|         |                | `country_name`: country's name of the website         |\n",
    "| ------- | -------------- | --------------------------------------------------------------------------------------------------------------|\n",
    "| 2       | Output  \t   | `a_table` (list of list): each element is a list containing df in each year (size: 18x6).            |\n",
    "| ------- | -------------- | --------------------------------------------------------------------------------------------------------------|\n",
    "| 3       | Steps          | get raw df rows (till contain html code) by `find_all` function.    |\n",
    "|         |                | get data from raw rows by `re` module.    |\n",
    "|         |                | remove empty rows (containing header rows).    |\n",
    "|         |                | get column containing `5 attributes` that we are interested in and add `country name` as a new attribute.    |"
   ]
  },
  {
   "cell_type": "code",
   "execution_count": 7,
   "metadata": {},
   "outputs": [],
   "source": [
    "def get_table(html_text, country_name):\n",
    "    rows = html_text.find_all('tr',{'role':'row'})[1:20]\n",
    "    a_table = list(map(lambda line: re.findall('>([\\d,-N.A]+)<',str(line)), rows))\n",
    "    a_table = list(filter(lambda line: len(line) > 0, a_table))\n",
    "    a_table = list(map(lambda line: [country_name] + line[:2] + line[3:5] + [line[-4]], a_table))\n",
    "    return a_table"
   ]
  },
  {
   "attachments": {},
   "cell_type": "markdown",
   "metadata": {},
   "source": [
    "- `write_to_file` function: write data table of all countries to file. \n",
    "\n",
    "| **No**  | **Description**| **Content**           |\n",
    "| ------- | -------------- | ----------------------|\n",
    "| 1       | Input          | `table` (list of list): each element is a list containing data in each year each country [size: (18 years x 56 countries) rows x 6 attributes].|\n",
    "| | ------------- | --------------------------------------------------------------------------------------------------------------|\n",
    "| 2       | Steps          | write name of 6 attributes to file.    |\n",
    "|         |                | cast each element to `str` and get data (remove brackets).    |\n",
    "|         |                | replace string `', '` with `\\t` and add `\\n` character.    |\n",
    "|         |                | write each line of table to file.    |"
   ]
  },
  {
   "cell_type": "code",
   "execution_count": 8,
   "metadata": {},
   "outputs": [],
   "source": [
    "def write_to_file(table):\n",
    "    with open(\"data.tsv\",'w') as f:\n",
    "        f.write(\"Country\\tYear\\tPopulation\\tChange\\tMigrate\\tUrban_resident\\n\")\n",
    "        table = list(map(lambda line: str(line)[2:-2].replace(\"\\', \\'\", '\\t')+'\\n',table))\n",
    "        for line in table:\n",
    "            f.write(line)"
   ]
  },
  {
   "cell_type": "markdown",
   "metadata": {},
   "source": [
    "Now, it's time to combine:\n",
    "\n",
    "- Get html text from each country site.\n",
    "\n",
    "- Get data tables from these sites and add to table.\n",
    "\n",
    "- Finally, write the table to file."
   ]
  },
  {
   "cell_type": "code",
   "execution_count": 9,
   "metadata": {},
   "outputs": [],
   "source": [
    "table = []\n",
    "for i in range(len(links)):\n",
    "    html_text = get_html_from_link(links[i])\n",
    "    table += get_table(html_text, country_name[i])\n",
    "write_to_file(table)"
   ]
  },
  {
   "cell_type": "code",
   "execution_count": 10,
   "metadata": {},
   "outputs": [],
   "source": [
    "# Close the Chrome browser\n",
    "browser.quit()"
   ]
  },
  {
   "cell_type": "markdown",
   "metadata": {},
   "source": [
    "---"
   ]
  },
  {
   "cell_type": "markdown",
   "metadata": {},
   "source": [
    "### Read data from tsv file into Pandas dataframe\n",
    "- read file and split into lines.\n",
    "\n",
    "- split the first line by tab character to get attributes.\n",
    "\n",
    "- put remain lines into Pandas dataframe, then split them by tab character.\n",
    "\n",
    "- Finally, split each rows into 6 columns."
   ]
  },
  {
   "cell_type": "code",
   "execution_count": 3,
   "metadata": {},
   "outputs": [
    {
     "data": {
      "text/html": [
       "<div>\n",
       "<style scoped>\n",
       "    .dataframe tbody tr th:only-of-type {\n",
       "        vertical-align: middle;\n",
       "    }\n",
       "\n",
       "    .dataframe tbody tr th {\n",
       "        vertical-align: top;\n",
       "    }\n",
       "\n",
       "    .dataframe thead th {\n",
       "        text-align: right;\n",
       "    }\n",
       "</style>\n",
       "<table border=\"1\" class=\"dataframe\">\n",
       "  <thead>\n",
       "    <tr style=\"text-align: right;\">\n",
       "      <th></th>\n",
       "      <th>Country</th>\n",
       "      <th>Year</th>\n",
       "      <th>Population</th>\n",
       "      <th>Change</th>\n",
       "      <th>Migrate</th>\n",
       "      <th>Urban_resident</th>\n",
       "    </tr>\n",
       "  </thead>\n",
       "  <tbody>\n",
       "    <tr>\n",
       "      <th>0</th>\n",
       "      <td>bermuda</td>\n",
       "      <td>2019</td>\n",
       "      <td>62.506</td>\n",
       "      <td>-250</td>\n",
       "      <td>1.250</td>\n",
       "      <td>60.833</td>\n",
       "    </tr>\n",
       "    <tr>\n",
       "      <th>1</th>\n",
       "      <td>bermuda</td>\n",
       "      <td>2018</td>\n",
       "      <td>62.756</td>\n",
       "      <td>-293</td>\n",
       "      <td>1.255</td>\n",
       "      <td>61.070</td>\n",
       "    </tr>\n",
       "    <tr>\n",
       "      <th>2</th>\n",
       "      <td>bermuda</td>\n",
       "      <td>2017</td>\n",
       "      <td>63.049</td>\n",
       "      <td>-313</td>\n",
       "      <td>1.261</td>\n",
       "      <td>61.349</td>\n",
       "    </tr>\n",
       "    <tr>\n",
       "      <th>3</th>\n",
       "      <td>bermuda</td>\n",
       "      <td>2016</td>\n",
       "      <td>63.362</td>\n",
       "      <td>-330</td>\n",
       "      <td>1.267</td>\n",
       "      <td>61.666</td>\n",
       "    </tr>\n",
       "    <tr>\n",
       "      <th>4</th>\n",
       "      <td>bermuda</td>\n",
       "      <td>2015</td>\n",
       "      <td>63.692</td>\n",
       "      <td>-339</td>\n",
       "      <td>1.274</td>\n",
       "      <td>62.003</td>\n",
       "    </tr>\n",
       "  </tbody>\n",
       "</table>\n",
       "</div>"
      ],
      "text/plain": [
       "   Country  Year Population Change Migrate Urban_resident\n",
       "0  bermuda  2019     62.506   -250   1.250         60.833\n",
       "1  bermuda  2018     62.756   -293   1.255         61.070\n",
       "2  bermuda  2017     63.049   -313   1.261         61.349\n",
       "3  bermuda  2016     63.362   -330   1.267         61.666\n",
       "4  bermuda  2015     63.692   -339   1.274         62.003"
      ]
     },
     "execution_count": 3,
     "metadata": {},
     "output_type": "execute_result"
    }
   ],
   "source": [
    "with open(\"data.tsv\") as f:\n",
    "    rows = f.read().split('\\n')\n",
    "    keys = rows[0].split('\\t')\n",
    "    df = pd.DataFrame([rows[1:-1]]).apply(lambda line: line.str.split('\\t'))\n",
    "    df = pd.DataFrame(df.iloc[0].to_list(), columns=keys)\n",
    "    \n",
    "df.head()\n"
   ]
  },
  {
   "cell_type": "markdown",
   "metadata": {},
   "source": [
    "---"
   ]
  },
  {
   "attachments": {},
   "cell_type": "markdown",
   "metadata": {},
   "source": [
    "## Data explorations"
   ]
  },
  {
   "cell_type": "markdown",
   "metadata": {},
   "source": [
    "### How many rows and columns does the data have ?"
   ]
  },
  {
   "cell_type": "code",
   "execution_count": 4,
   "metadata": {},
   "outputs": [
    {
     "name": "stdout",
     "output_type": "stream",
     "text": [
      "The data have 1008 rowls\n",
      "The data have 6 columns\n"
     ]
    }
   ],
   "source": [
    "Num_rows,Num_cols=df.shape\n",
    "print(f\"The data have {Num_rows} rowls\")\n",
    "print(f\"The data have {Num_cols} columns\")"
   ]
  },
  {
   "attachments": {},
   "cell_type": "markdown",
   "metadata": {},
   "source": [
    "### Are there any dulicate rows in the data?"
   ]
  },
  {
   "cell_type": "code",
   "execution_count": 5,
   "metadata": {},
   "outputs": [
    {
     "name": "stdout",
     "output_type": "stream",
     "text": [
      "No dulicate\n"
     ]
    }
   ],
   "source": [
    "have_dulicate_rows = df.duplicated().sum()\n",
    "print(\"Yes dulicate\") if have_dulicate_rows else print('No dulicate')"
   ]
  },
  {
   "cell_type": "markdown",
   "metadata": {},
   "source": [
    "### What do the  columns in the data mean?"
   ]
  },
  {
   "attachments": {},
   "cell_type": "markdown",
   "metadata": {},
   "source": [
    "- **Country** : Name of the country\n",
    "- **Year**: show the years the data was collected\n",
    "- **Population**: The population of each country\n",
    "- **Change**: The number of population changes\n",
    "- **Migration**: The number of migratory population including immigration and emigration\n",
    "- **Urban_resident**: Number of population living in urban areas"
   ]
  },
  {
   "cell_type": "markdown",
   "metadata": {},
   "source": [
    "### What data type does each column currently have? "
   ]
  },
  {
   "cell_type": "code",
   "execution_count": 6,
   "metadata": {},
   "outputs": [
    {
     "data": {
      "text/plain": [
       "Country           object\n",
       "Year              object\n",
       "Population        object\n",
       "Change            object\n",
       "Migrate           object\n",
       "Urban_resident    object\n",
       "dtype: object"
      ]
     },
     "execution_count": 6,
     "metadata": {},
     "output_type": "execute_result"
    }
   ],
   "source": [
    "df.dtypes"
   ]
  },
  {
   "attachments": {},
   "cell_type": "markdown",
   "metadata": {},
   "source": [
    "**What does columns that have object type mean?**"
   ]
  },
  {
   "attachments": {},
   "cell_type": "markdown",
   "metadata": {},
   "source": [
    "All columns in data have datatype of object. If the datatype of a column in dataframe is object, the datatype of elements in that column can be different from each other. so we will list the data types present in each column"
   ]
  },
  {
   "cell_type": "code",
   "execution_count": 7,
   "metadata": {},
   "outputs": [
    {
     "name": "stdout",
     "output_type": "stream",
     "text": [
      "List type in Country column: {<class 'str'>}\n",
      "List type in Year column: {<class 'str'>}\n",
      "List type in Population column: {<class 'str'>}\n",
      "List type in Change column: {<class 'str'>}\n",
      "List type in Migrate column: {<class 'str'>}\n",
      "List type in Urban_resident column: {<class 'str'>}\n"
     ]
    }
   ],
   "source": [
    "def check_dtype(col_name):\n",
    "    s = df[col_name]\n",
    "    dtypes = set()\n",
    "    s.apply(lambda x : dtypes.add(type(x)))\n",
    "    print(f'List type in {col_name} column: {dtypes}')\n",
    "    return dtypes\n",
    "\n",
    "for col_name in df.columns:\n",
    "    check_dtype(col_name)\n"
   ]
  },
  {
   "cell_type": "markdown",
   "metadata": {},
   "source": [
    "**Issues that need to be reprocessed:**\n"
   ]
  },
  {
   "cell_type": "markdown",
   "metadata": {},
   "source": [
    "-   The column \"Country\" has str data type. \n",
    "-   The  columns \" Year\" , \"Population\" , \"Change\",\" Migrate\":  data type current is string , we wil  change from str data type to int \n",
    "-    The Urban_resident column has an inappropriate value (N.A). Since in those countries there is 100% urban population, we will assign N.A to the population of that country for the year. Finally convert the values in the column to int data type."
   ]
  },
  {
   "cell_type": "markdown",
   "metadata": {},
   "source": [
    "## Preprocessing"
   ]
  },
  {
   "cell_type": "markdown",
   "metadata": {},
   "source": [
    "### Convert dtype of \"Urban_resident\" columns to int"
   ]
  },
  {
   "cell_type": "markdown",
   "metadata": {},
   "source": [
    "-    The columns 'Urban_resident' has an inappropriate value (N.A.).Values like N.A. then at that time the urban population is also the population of that country. So we change the value for N.A. Then convert to int type"
   ]
  },
  {
   "cell_type": "code",
   "execution_count": 8,
   "metadata": {},
   "outputs": [],
   "source": [
    "def check_Urban_resident(x):\n",
    "    return x['Population'] if x['Urban_resident']==\"N.A.\" else x['Urban_resident']\n",
    "    \n",
    "df['Urban_resident']=df[['Urban_resident' ,'Population']].apply(check_Urban_resident,axis=1)\n",
    "df.Urban_resident=df.Urban_resident.apply(lambda x: x.replace(\".\",''))\n",
    "df.Urban_resident=df.Urban_resident.apply(lambda x: int(x))"
   ]
  },
  {
   "cell_type": "markdown",
   "metadata": {},
   "source": [
    "### Convert dtype of\" Year\" , \"Population\" , \"Change\" and \" Migrate\" columns to int"
   ]
  },
  {
   "cell_type": "code",
   "execution_count": 9,
   "metadata": {},
   "outputs": [],
   "source": [
    "df.Year = df.Year.apply(lambda x : int(x))\n",
    "df.Population=df.Population.apply(lambda x: x.replace(\".\",''))\n",
    "df.Population=df.Population.apply(lambda x: int(x))\n",
    "df.Change=df.Change.apply(lambda x: x.replace(\".\",''))\n",
    "df.Change=df.Change.apply(lambda x: int(x))\n",
    "df.Migrate=df.Migrate.apply(lambda x: x.replace(\".\",''))\n",
    "df.Migrate=df.Migrate.apply(lambda x: int(x))"
   ]
  },
  {
   "cell_type": "markdown",
   "metadata": {},
   "source": [
    "Current datatype"
   ]
  },
  {
   "cell_type": "code",
   "execution_count": 10,
   "metadata": {},
   "outputs": [
    {
     "data": {
      "text/plain": [
       "Country           object\n",
       "Year               int64\n",
       "Population         int64\n",
       "Change             int64\n",
       "Migrate            int64\n",
       "Urban_resident     int64\n",
       "dtype: object"
      ]
     },
     "execution_count": 10,
     "metadata": {},
     "output_type": "execute_result"
    }
   ],
   "source": [
    "df.dtypes"
   ]
  },
  {
   "cell_type": "markdown",
   "metadata": {},
   "source": [
    "## Data explorations (continue)"
   ]
  },
  {
   "cell_type": "markdown",
   "metadata": {},
   "source": [
    "### Data distribution of columns ('Population' , 'Change' , 'Migrate' , 'Urban_resident')"
   ]
  },
  {
   "cell_type": "code",
   "execution_count": 11,
   "metadata": {},
   "outputs": [
    {
     "data": {
      "image/png": "[encoded data removed]",
      "text/plain": [
       "<Figure size 1224x360 with 4 Axes>"
      ]
     },
     "metadata": {
      "needs_background": "light"
     },
     "output_type": "display_data"
    }
   ],
   "source": [
    "Arrat=df.drop(\"Country\",axis=1)\n",
    "Arrat=Arrat.drop(\"Year\",axis=1)\n",
    "fig, axs=plt.subplots(1, len(Arrat.columns), figsize=(17,5))\n",
    "for i , ax in enumerate(axs.flat):\n",
    "    ax.hist(Arrat.iloc[:,i] )\n",
    "    ax.set_title(Arrat.columns[i],fontsize=20,fontweight='bold')\n",
    "    ax.semilogy()\n",
    "   \n",
    "plt.tight_layout()"
   ]
  },
  {
   "cell_type": "markdown",
   "metadata": {},
   "source": [
    "-   `Comment`\n",
    "    -  Data distribution table of columns Population , Change , Migrare , Urban_resident\n",
    "    - In the Migrate column , there are negative and positive values . Negative value indicates the migrant countries. Positive value indicates the immigrant countries\n",
    "    - In the Change column, there are positive and negative values. A negative value indicates that the population of that country has decreased compared to the population of the previous data update. A positive value indicates an increase in the population of that country compared to the population of the previous data update\n",
    "    - So negative signs are just formal marks to indicate a certain meaning without affecting the value"
   ]
  },
  {
   "cell_type": "markdown",
   "metadata": {},
   "source": [
    "### Data distribution of columns ('Year')"
   ]
  },
  {
   "cell_type": "code",
   "execution_count": 12,
   "metadata": {},
   "outputs": [
    {
     "data": {
      "image/png": "[encoded data removed]",
      "text/plain": [
       "<Figure size 432x288 with 1 Axes>"
      ]
     },
     "metadata": {
      "needs_background": "light"
     },
     "output_type": "display_data"
    }
   ],
   "source": [
    "year_arr=df['Year'].sort_values().unique()\n",
    "plt.scatter(year_arr,year_arr )\n",
    "plt.show()"
   ]
  },
  {
   "cell_type": "markdown",
   "metadata": {},
   "source": [
    "-  `Comment` \n",
    "   - In the Year column, there are years from 1995 to 2020 and the distribution is not uniform\n",
    "   - From 1955 to 2015, Each data update is 5 years apart. And from 2015 to 2020 they are only 1 year apart."
   ]
  },
  {
   "cell_type": "markdown",
   "metadata": {},
   "source": [
    "### Data distribution of columns ('Country')"
   ]
  },
  {
   "cell_type": "markdown",
   "metadata": {},
   "source": [
    "#### We collect data for 56 countries in Asia and North America"
   ]
  },
  {
   "cell_type": "markdown",
   "metadata": {},
   "source": [
    "-   `Countries in Asia`"
   ]
  },
  {
   "cell_type": "code",
   "execution_count": 13,
   "metadata": {},
   "outputs": [
    {
     "data": {
      "text/html": [
       "<div>\n",
       "<style scoped>\n",
       "    .dataframe tbody tr th:only-of-type {\n",
       "        vertical-align: middle;\n",
       "    }\n",
       "\n",
       "    .dataframe tbody tr th {\n",
       "        vertical-align: top;\n",
       "    }\n",
       "\n",
       "    .dataframe thead th {\n",
       "        text-align: right;\n",
       "    }\n",
       "</style>\n",
       "<table border=\"1\" class=\"dataframe\">\n",
       "  <thead>\n",
       "    <tr style=\"text-align: right;\">\n",
       "      <th></th>\n",
       "      <th>0</th>\n",
       "      <th>1</th>\n",
       "      <th>2</th>\n",
       "      <th>3</th>\n",
       "      <th>4</th>\n",
       "      <th>5</th>\n",
       "      <th>6</th>\n",
       "      <th>7</th>\n",
       "      <th>8</th>\n",
       "      <th>9</th>\n",
       "      <th>...</th>\n",
       "      <th>41</th>\n",
       "      <th>42</th>\n",
       "      <th>43</th>\n",
       "      <th>44</th>\n",
       "      <th>45</th>\n",
       "      <th>46</th>\n",
       "      <th>47</th>\n",
       "      <th>48</th>\n",
       "      <th>49</th>\n",
       "      <th>50</th>\n",
       "    </tr>\n",
       "  </thead>\n",
       "  <tbody>\n",
       "    <tr>\n",
       "      <th>Asia</th>\n",
       "      <td>a-rap-xe-ut</td>\n",
       "      <td>afghanistan</td>\n",
       "      <td>an-do</td>\n",
       "      <td>armenia</td>\n",
       "      <td>azerbaijan</td>\n",
       "      <td>bahrain</td>\n",
       "      <td>bangladesh</td>\n",
       "      <td>bhutan</td>\n",
       "      <td>brunei</td>\n",
       "      <td>cac-tieu-vuong-quoc-a-rap-thong-nhat</td>\n",
       "      <td>...</td>\n",
       "      <td>syria</td>\n",
       "      <td>tajikistan</td>\n",
       "      <td>thai-lan</td>\n",
       "      <td>tho-nhi-ky</td>\n",
       "      <td>trieu-tien</td>\n",
       "      <td>trung-quoc</td>\n",
       "      <td>turkmenistan</td>\n",
       "      <td>uzbekistan</td>\n",
       "      <td>viet-nam</td>\n",
       "      <td>yemen</td>\n",
       "    </tr>\n",
       "  </tbody>\n",
       "</table>\n",
       "<p>1 rows × 51 columns</p>\n",
       "</div>"
      ],
      "text/plain": [
       "               0            1      2        3           4        5   \\\n",
       "Asia  a-rap-xe-ut  afghanistan  an-do  armenia  azerbaijan  bahrain   \n",
       "\n",
       "              6       7       8                                     9   ...  \\\n",
       "Asia  bangladesh  bhutan  brunei  cac-tieu-vuong-quoc-a-rap-thong-nhat  ...   \n",
       "\n",
       "         41          42        43          44          45          46  \\\n",
       "Asia  syria  tajikistan  thai-lan  tho-nhi-ky  trieu-tien  trung-quoc   \n",
       "\n",
       "                47          48        49     50  \n",
       "Asia  turkmenistan  uzbekistan  viet-nam  yemen  \n",
       "\n",
       "[1 rows x 51 columns]"
      ]
     },
     "execution_count": 13,
     "metadata": {},
     "output_type": "execute_result"
    }
   ],
   "source": [
    "Country_arr=df['Country'].unique()\n",
    "Asia={}\n",
    "Asia['Asia']=Country_arr[5:]\n",
    "Asia=pd.DataFrame(Asia)\n",
    "Asia=Asia.T\n",
    "Asia.head()\n"
   ]
  },
  {
   "cell_type": "markdown",
   "metadata": {},
   "source": [
    "- `Countries in North America`"
   ]
  },
  {
   "cell_type": "code",
   "execution_count": 14,
   "metadata": {},
   "outputs": [
    {
     "data": {
      "text/html": [
       "<div>\n",
       "<style scoped>\n",
       "    .dataframe tbody tr th:only-of-type {\n",
       "        vertical-align: middle;\n",
       "    }\n",
       "\n",
       "    .dataframe tbody tr th {\n",
       "        vertical-align: top;\n",
       "    }\n",
       "\n",
       "    .dataframe thead th {\n",
       "        text-align: right;\n",
       "    }\n",
       "</style>\n",
       "<table border=\"1\" class=\"dataframe\">\n",
       "  <thead>\n",
       "    <tr style=\"text-align: right;\">\n",
       "      <th></th>\n",
       "      <th>0</th>\n",
       "      <th>1</th>\n",
       "      <th>2</th>\n",
       "      <th>3</th>\n",
       "      <th>4</th>\n",
       "    </tr>\n",
       "  </thead>\n",
       "  <tbody>\n",
       "    <tr>\n",
       "      <th>North America</th>\n",
       "      <td>bermuda</td>\n",
       "      <td>canada</td>\n",
       "      <td>greenland</td>\n",
       "      <td>hoa-ky</td>\n",
       "      <td>saint-pierre-va-miquelon</td>\n",
       "    </tr>\n",
       "  </tbody>\n",
       "</table>\n",
       "</div>"
      ],
      "text/plain": [
       "                     0       1          2       3                         4\n",
       "North America  bermuda  canada  greenland  hoa-ky  saint-pierre-va-miquelon"
      ]
     },
     "execution_count": 14,
     "metadata": {},
     "output_type": "execute_result"
    }
   ],
   "source": [
    "North_America={}\n",
    "North_America['North America']=Country_arr[:5]\n",
    "North_America=pd.DataFrame(North_America)\n",
    "North_America=North_America.T\n",
    "North_America.head()\n"
   ]
  },
  {
   "cell_type": "markdown",
   "metadata": {},
   "source": [
    "### For each column with numeric data types, how are the values distributed?"
   ]
  },
  {
   "attachments": {},
   "cell_type": "markdown",
   "metadata": {},
   "source": [
    "- There appear to be 5 columns in the numeric group right now: 'Year' , 'Population','Change','Migrate','Urban_resident'\n",
    "- I will compute the percentage of missing values (from 0 to 100), the minimum and maximum for each numeric column .The results are saved to the dataframe `Nume_col_data`"
   ]
  },
  {
   "cell_type": "code",
   "execution_count": 15,
   "metadata": {},
   "outputs": [
    {
     "data": {
      "text/html": [
       "<div>\n",
       "<style scoped>\n",
       "    .dataframe tbody tr th:only-of-type {\n",
       "        vertical-align: middle;\n",
       "    }\n",
       "\n",
       "    .dataframe tbody tr th {\n",
       "        vertical-align: top;\n",
       "    }\n",
       "\n",
       "    .dataframe thead th {\n",
       "        text-align: right;\n",
       "    }\n",
       "</style>\n",
       "<table border=\"1\" class=\"dataframe\">\n",
       "  <thead>\n",
       "    <tr style=\"text-align: right;\">\n",
       "      <th></th>\n",
       "      <th>Year</th>\n",
       "      <th>Population</th>\n",
       "      <th>Change</th>\n",
       "      <th>Migrate</th>\n",
       "      <th>Urban_resident</th>\n",
       "    </tr>\n",
       "  </thead>\n",
       "  <tbody>\n",
       "    <tr>\n",
       "      <th>missing_ratio</th>\n",
       "      <td>0.0</td>\n",
       "      <td>0.000000e+00</td>\n",
       "      <td>0.0</td>\n",
       "      <td>0.0</td>\n",
       "      <td>0.0</td>\n",
       "    </tr>\n",
       "    <tr>\n",
       "      <th>count</th>\n",
       "      <td>1008.0</td>\n",
       "      <td>1.008000e+03</td>\n",
       "      <td>1008.0</td>\n",
       "      <td>1008.0</td>\n",
       "      <td>1008.0</td>\n",
       "    </tr>\n",
       "    <tr>\n",
       "      <th>mean</th>\n",
       "      <td>1994.0</td>\n",
       "      <td>6.595670e+07</td>\n",
       "      <td>855175.0</td>\n",
       "      <td>1897.0</td>\n",
       "      <td>28341910.0</td>\n",
       "    </tr>\n",
       "    <tr>\n",
       "      <th>std</th>\n",
       "      <td>22.0</td>\n",
       "      <td>2.080674e+08</td>\n",
       "      <td>2545136.0</td>\n",
       "      <td>167680.0</td>\n",
       "      <td>88811065.0</td>\n",
       "    </tr>\n",
       "    <tr>\n",
       "      <th>min</th>\n",
       "      <td>1955.0</td>\n",
       "      <td>4.755000e+03</td>\n",
       "      <td>-673024.0</td>\n",
       "      <td>-1077397.0</td>\n",
       "      <td>3942.0</td>\n",
       "    </tr>\n",
       "    <tr>\n",
       "      <th>25%</th>\n",
       "      <td>1975.0</td>\n",
       "      <td>2.083358e+06</td>\n",
       "      <td>32502.0</td>\n",
       "      <td>-20000.0</td>\n",
       "      <td>914024.0</td>\n",
       "    </tr>\n",
       "    <tr>\n",
       "      <th>50%</th>\n",
       "      <td>1998.0</td>\n",
       "      <td>8.323390e+06</td>\n",
       "      <td>122130.0</td>\n",
       "      <td>0.0</td>\n",
       "      <td>3750898.0</td>\n",
       "    </tr>\n",
       "    <tr>\n",
       "      <th>75%</th>\n",
       "      <td>2016.0</td>\n",
       "      <td>3.279276e+07</td>\n",
       "      <td>523006.0</td>\n",
       "      <td>15645.0</td>\n",
       "      <td>15720951.0</td>\n",
       "    </tr>\n",
       "    <tr>\n",
       "      <th>max</th>\n",
       "      <td>2020.0</td>\n",
       "      <td>1.439324e+09</td>\n",
       "      <td>20676485.0</td>\n",
       "      <td>1771991.0</td>\n",
       "      <td>875075919.0</td>\n",
       "    </tr>\n",
       "  </tbody>\n",
       "</table>\n",
       "</div>"
      ],
      "text/plain": [
       "                 Year    Population      Change    Migrate  Urban_resident\n",
       "missing_ratio     0.0  0.000000e+00         0.0        0.0             0.0\n",
       "count          1008.0  1.008000e+03      1008.0     1008.0          1008.0\n",
       "mean           1994.0  6.595670e+07    855175.0     1897.0      28341910.0\n",
       "std              22.0  2.080674e+08   2545136.0   167680.0      88811065.0\n",
       "min            1955.0  4.755000e+03   -673024.0 -1077397.0          3942.0\n",
       "25%            1975.0  2.083358e+06     32502.0   -20000.0        914024.0\n",
       "50%            1998.0  8.323390e+06    122130.0        0.0       3750898.0\n",
       "75%            2016.0  3.279276e+07    523006.0    15645.0      15720951.0\n",
       "max            2020.0  1.439324e+09  20676485.0  1771991.0     875075919.0"
      ]
     },
     "execution_count": 15,
     "metadata": {},
     "output_type": "execute_result"
    }
   ],
   "source": [
    "nume_col_df = df.select_dtypes(exclude='object')\n",
    "df1 = pd.DataFrame([\n",
    "    nume_col_df.isna().mean() * 100]\n",
    "    , index=[\"missing_ratio\"])\n",
    "df2 = nume_col_df.describe()\n",
    "Nume_col_data = np.round(pd.concat([df1, df2], axis=0))\n",
    "Nume_col_data\n",
    "\n"
   ]
  },
  {
   "cell_type": "markdown",
   "metadata": {},
   "source": [
    "`Comment:` Data cleaning and processing is quite good so 100% no data is missing.Ready to answer questions"
   ]
  },
  {
   "attachments": {},
   "cell_type": "markdown",
   "metadata": {},
   "source": [
    "## Ask a meaningful question"
   ]
  },
  {
   "cell_type": "markdown",
   "metadata": {},
   "source": [
    "There are five number of questions that can be answered with data after exploring it and better understanding it:\n",
    "-   Which are immigrant countries and migrant countries\n",
    "-   Migration rate of countries in the region over the year => Find top 3 immigrant/migrant countries\n",
    "-   Average population growth rate of countries from 1955 to 2020 year\n",
    "-   The most/least populous country in area in each year\n",
    "-   Calculate average population of countries in a period"
   ]
  },
  {
   "cell_type": "markdown",
   "metadata": {},
   "source": [
    "### Which are immigrant countries and migrant countries"
   ]
  },
  {
   "cell_type": "markdown",
   "metadata": {},
   "source": [
    "- `Migrant countries`"
   ]
  },
  {
   "cell_type": "code",
   "execution_count": 16,
   "metadata": {},
   "outputs": [
    {
     "data": {
      "text/html": [
       "<div>\n",
       "<style scoped>\n",
       "    .dataframe tbody tr th:only-of-type {\n",
       "        vertical-align: middle;\n",
       "    }\n",
       "\n",
       "    .dataframe tbody tr th {\n",
       "        vertical-align: top;\n",
       "    }\n",
       "\n",
       "    .dataframe thead th {\n",
       "        text-align: right;\n",
       "    }\n",
       "</style>\n",
       "<table border=\"1\" class=\"dataframe\">\n",
       "  <thead>\n",
       "    <tr style=\"text-align: right;\">\n",
       "      <th></th>\n",
       "      <th>0</th>\n",
       "      <th>1</th>\n",
       "      <th>2</th>\n",
       "      <th>3</th>\n",
       "      <th>4</th>\n",
       "      <th>5</th>\n",
       "      <th>6</th>\n",
       "      <th>7</th>\n",
       "      <th>8</th>\n",
       "      <th>9</th>\n",
       "      <th>...</th>\n",
       "      <th>19</th>\n",
       "      <th>20</th>\n",
       "      <th>21</th>\n",
       "      <th>22</th>\n",
       "      <th>23</th>\n",
       "      <th>24</th>\n",
       "      <th>25</th>\n",
       "      <th>26</th>\n",
       "      <th>27</th>\n",
       "      <th>28</th>\n",
       "    </tr>\n",
       "  </thead>\n",
       "  <tbody>\n",
       "    <tr>\n",
       "      <th>Country</th>\n",
       "      <td>afghanistan</td>\n",
       "      <td>an-do</td>\n",
       "      <td>armenia</td>\n",
       "      <td>azerbaijan</td>\n",
       "      <td>bangladesh</td>\n",
       "      <td>bhutan</td>\n",
       "      <td>campuchia</td>\n",
       "      <td>dong-timo</td>\n",
       "      <td>georgia</td>\n",
       "      <td>indonesia</td>\n",
       "      <td>...</td>\n",
       "      <td>philippines</td>\n",
       "      <td>sri-lanka</td>\n",
       "      <td>syria</td>\n",
       "      <td>tajikistan</td>\n",
       "      <td>trieu-tien</td>\n",
       "      <td>trung-quoc</td>\n",
       "      <td>turkmenistan</td>\n",
       "      <td>uzbekistan</td>\n",
       "      <td>viet-nam</td>\n",
       "      <td>yemen</td>\n",
       "    </tr>\n",
       "  </tbody>\n",
       "</table>\n",
       "<p>1 rows × 29 columns</p>\n",
       "</div>"
      ],
      "text/plain": [
       "                  0      1        2           3           4       5   \\\n",
       "Country  afghanistan  an-do  armenia  azerbaijan  bangladesh  bhutan   \n",
       "\n",
       "                6          7        8          9   ...           19  \\\n",
       "Country  campuchia  dong-timo  georgia  indonesia  ...  philippines   \n",
       "\n",
       "                20     21          22          23          24            25  \\\n",
       "Country  sri-lanka  syria  tajikistan  trieu-tien  trung-quoc  turkmenistan   \n",
       "\n",
       "                 26        27     28  \n",
       "Country  uzbekistan  viet-nam  yemen  \n",
       "\n",
       "[1 rows x 29 columns]"
      ]
     },
     "execution_count": 16,
     "metadata": {},
     "output_type": "execute_result"
    }
   ],
   "source": [
    "Migrant_countries={}\n",
    "Immigrant_countries={}\n",
    "Migrant_countries['Country']=[]\n",
    "Migrant_countries['Migrate']=[]\n",
    "Immigrant_countries['Country']=[]\n",
    "Immigrant_countries['Migrate']=[]\n",
    "\n",
    "def Check_Migrant(x):\n",
    "    if x['Migrate'] < 0:\n",
    "        Migrant_countries['Country'].append(x['Country'])\n",
    "        Migrant_countries['Migrate'].append(x['Migrate'])\n",
    "    elif x['Migrate'] >0:\n",
    "        Immigrant_countries['Country'].append(x['Country'])\n",
    "        Immigrant_countries['Migrate'].append(x['Migrate'])\n",
    "Temp=df[['Country','Migrate']]\n",
    "Temp=Temp.groupby('Country').mean().reset_index()\n",
    "Temp.apply(Check_Migrant,axis=1)\n",
    "Migrant_countries=pd.DataFrame(Migrant_countries)\n",
    "KQ=Migrant_countries[['Country']].T\n",
    "KQ.head()\n"
   ]
  },
  {
   "cell_type": "markdown",
   "metadata": {},
   "source": [
    "-   `Immigrant countries`"
   ]
  },
  {
   "cell_type": "code",
   "execution_count": 17,
   "metadata": {},
   "outputs": [
    {
     "data": {
      "text/html": [
       "<div>\n",
       "<style scoped>\n",
       "    .dataframe tbody tr th:only-of-type {\n",
       "        vertical-align: middle;\n",
       "    }\n",
       "\n",
       "    .dataframe tbody tr th {\n",
       "        vertical-align: top;\n",
       "    }\n",
       "\n",
       "    .dataframe thead th {\n",
       "        text-align: right;\n",
       "    }\n",
       "</style>\n",
       "<table border=\"1\" class=\"dataframe\">\n",
       "  <thead>\n",
       "    <tr style=\"text-align: right;\">\n",
       "      <th></th>\n",
       "      <th>0</th>\n",
       "      <th>1</th>\n",
       "      <th>2</th>\n",
       "      <th>3</th>\n",
       "      <th>4</th>\n",
       "      <th>5</th>\n",
       "      <th>6</th>\n",
       "      <th>7</th>\n",
       "      <th>8</th>\n",
       "      <th>9</th>\n",
       "      <th>...</th>\n",
       "      <th>16</th>\n",
       "      <th>17</th>\n",
       "      <th>18</th>\n",
       "      <th>19</th>\n",
       "      <th>20</th>\n",
       "      <th>21</th>\n",
       "      <th>22</th>\n",
       "      <th>23</th>\n",
       "      <th>24</th>\n",
       "      <th>25</th>\n",
       "    </tr>\n",
       "  </thead>\n",
       "  <tbody>\n",
       "    <tr>\n",
       "      <th>Country</th>\n",
       "      <td>a-rap-xe-ut</td>\n",
       "      <td>bahrain</td>\n",
       "      <td>bermuda</td>\n",
       "      <td>brunei</td>\n",
       "      <td>cac-tieu-vuong-quoc-a-rap-thong-nhat</td>\n",
       "      <td>canada</td>\n",
       "      <td>cong-hoa-sip</td>\n",
       "      <td>dai-loan</td>\n",
       "      <td>han-quoc</td>\n",
       "      <td>hoa-ky</td>\n",
       "      <td>...</td>\n",
       "      <td>ma-cao</td>\n",
       "      <td>malaysia</td>\n",
       "      <td>maldives</td>\n",
       "      <td>nhat-ban</td>\n",
       "      <td>oman</td>\n",
       "      <td>qatar</td>\n",
       "      <td>saint-pierre-va-miquelon</td>\n",
       "      <td>singapore</td>\n",
       "      <td>thai-lan</td>\n",
       "      <td>tho-nhi-ky</td>\n",
       "    </tr>\n",
       "  </tbody>\n",
       "</table>\n",
       "<p>1 rows × 26 columns</p>\n",
       "</div>"
      ],
      "text/plain": [
       "                  0        1        2       3   \\\n",
       "Country  a-rap-xe-ut  bahrain  bermuda  brunei   \n",
       "\n",
       "                                           4       5             6         7   \\\n",
       "Country  cac-tieu-vuong-quoc-a-rap-thong-nhat  canada  cong-hoa-sip  dai-loan   \n",
       "\n",
       "               8       9   ...      16        17        18        19    20  \\\n",
       "Country  han-quoc  hoa-ky  ...  ma-cao  malaysia  maldives  nhat-ban  oman   \n",
       "\n",
       "            21                        22         23        24          25  \n",
       "Country  qatar  saint-pierre-va-miquelon  singapore  thai-lan  tho-nhi-ky  \n",
       "\n",
       "[1 rows x 26 columns]"
      ]
     },
     "execution_count": 17,
     "metadata": {},
     "output_type": "execute_result"
    }
   ],
   "source": [
    "Immigrant_countries=pd.DataFrame(Immigrant_countries)\n",
    "KQ=Immigrant_countries[['Country']].T\n",
    "KQ.head()"
   ]
  },
  {
   "cell_type": "markdown",
   "metadata": {},
   "source": [
    "### Migration rate of countries in the region over the year => Find top 5 immigrant/migrant countries"
   ]
  },
  {
   "cell_type": "markdown",
   "metadata": {},
   "source": [
    "-   Top 5 Migrant countries"
   ]
  },
  {
   "cell_type": "code",
   "execution_count": 18,
   "metadata": {},
   "outputs": [
    {
     "data": {
      "text/html": [
       "<div>\n",
       "<style scoped>\n",
       "    .dataframe tbody tr th:only-of-type {\n",
       "        vertical-align: middle;\n",
       "    }\n",
       "\n",
       "    .dataframe tbody tr th {\n",
       "        vertical-align: top;\n",
       "    }\n",
       "\n",
       "    .dataframe thead th {\n",
       "        text-align: right;\n",
       "    }\n",
       "</style>\n",
       "<table border=\"1\" class=\"dataframe\">\n",
       "  <thead>\n",
       "    <tr style=\"text-align: right;\">\n",
       "      <th></th>\n",
       "      <th>Tyle</th>\n",
       "    </tr>\n",
       "    <tr>\n",
       "      <th>Country</th>\n",
       "      <th></th>\n",
       "    </tr>\n",
       "  </thead>\n",
       "  <tbody>\n",
       "    <tr>\n",
       "      <th>kazakhstan</th>\n",
       "      <td>6.189694</td>\n",
       "    </tr>\n",
       "    <tr>\n",
       "      <th>armenia</th>\n",
       "      <td>6.718504</td>\n",
       "    </tr>\n",
       "    <tr>\n",
       "      <th>palestine</th>\n",
       "      <td>8.719181</td>\n",
       "    </tr>\n",
       "    <tr>\n",
       "      <th>afghanistan</th>\n",
       "      <td>9.261272</td>\n",
       "    </tr>\n",
       "    <tr>\n",
       "      <th>syria</th>\n",
       "      <td>11.626894</td>\n",
       "    </tr>\n",
       "  </tbody>\n",
       "</table>\n",
       "</div>"
      ],
      "text/plain": [
       "                  Tyle\n",
       "Country               \n",
       "kazakhstan    6.189694\n",
       "armenia       6.718504\n",
       "palestine     8.719181\n",
       "afghanistan   9.261272\n",
       "syria        11.626894"
      ]
     },
     "execution_count": 18,
     "metadata": {},
     "output_type": "execute_result"
    }
   ],
   "source": [
    "def TinhToan(x):\n",
    "    return (x['Migrate']/x['Population'])*1000\n",
    "def abs_x(x):\n",
    "    return abs(x)\n",
    "Top5_Migrant=df[['Country' ,'Population' ,'Migrate']].loc[df['Country'].isin(Migrant_countries['Country'].unique())]\n",
    "Top5_Migrant['Migrate']=Top5_Migrant['Migrate'].apply(abs_x)\n",
    "Top5_Migrant['Tyle']=Top5_Migrant[['Population','Migrate']].apply(TinhToan,axis=1)\n",
    "Top5_Migrant=Top5_Migrant[['Country','Tyle']].groupby('Country').mean().sort_values('Tyle').reset_index()\n",
    "Top5_Migrant['Tyle']=Top5_Migrant['Tyle'].apply(lambda x: abs(x))\n",
    "Top5_Migrant= Top5_Migrant.tail(5)\n",
    "Top5_Migrant=Top5_Migrant.set_index(\"Country\")\n",
    "Top5_Migrant.head()"
   ]
  },
  {
   "cell_type": "code",
   "execution_count": 19,
   "metadata": {},
   "outputs": [
    {
     "data": {
      "image/png": "[encoded data removed]",
      "text/plain": [
       "<Figure size 432x288 with 1 Axes>"
      ]
     },
     "metadata": {
      "needs_background": "light"
     },
     "output_type": "display_data"
    }
   ],
   "source": [
    "y=np.arange(len(Top5_Migrant.index.array))\n",
    "x=Top5_Migrant['Tyle']\n",
    "plt.bar(y,x)\n",
    "plt.xticks(y,Top5_Migrant.index)\n",
    "plt.ylabel('Migration rate')\n",
    "plt.title('Top 5 countries that migrant the most')\n",
    "plt.show()"
   ]
  },
  {
   "cell_type": "markdown",
   "metadata": {},
   "source": [
    "-  Top 5 Immigrant countries"
   ]
  },
  {
   "cell_type": "code",
   "execution_count": 20,
   "metadata": {},
   "outputs": [
    {
     "data": {
      "text/html": [
       "<div>\n",
       "<style scoped>\n",
       "    .dataframe tbody tr th:only-of-type {\n",
       "        vertical-align: middle;\n",
       "    }\n",
       "\n",
       "    .dataframe tbody tr th {\n",
       "        vertical-align: top;\n",
       "    }\n",
       "\n",
       "    .dataframe thead th {\n",
       "        text-align: right;\n",
       "    }\n",
       "</style>\n",
       "<table border=\"1\" class=\"dataframe\">\n",
       "  <thead>\n",
       "    <tr style=\"text-align: right;\">\n",
       "      <th></th>\n",
       "      <th>Tyle</th>\n",
       "    </tr>\n",
       "    <tr>\n",
       "      <th>Country</th>\n",
       "      <th></th>\n",
       "    </tr>\n",
       "  </thead>\n",
       "  <tbody>\n",
       "    <tr>\n",
       "      <th>qatar</th>\n",
       "      <td>30.756632</td>\n",
       "    </tr>\n",
       "    <tr>\n",
       "      <th>cac-tieu-vuong-quoc-a-rap-thong-nhat</th>\n",
       "      <td>30.201535</td>\n",
       "    </tr>\n",
       "    <tr>\n",
       "      <th>bermuda</th>\n",
       "      <td>20.000191</td>\n",
       "    </tr>\n",
       "    <tr>\n",
       "      <th>bahrain</th>\n",
       "      <td>16.801409</td>\n",
       "    </tr>\n",
       "    <tr>\n",
       "      <th>kuwait</th>\n",
       "      <td>14.424274</td>\n",
       "    </tr>\n",
       "  </tbody>\n",
       "</table>\n",
       "</div>"
      ],
      "text/plain": [
       "                                           Tyle\n",
       "Country                                        \n",
       "qatar                                 30.756632\n",
       "cac-tieu-vuong-quoc-a-rap-thong-nhat  30.201535\n",
       "bermuda                               20.000191\n",
       "bahrain                               16.801409\n",
       "kuwait                                14.424274"
      ]
     },
     "execution_count": 20,
     "metadata": {},
     "output_type": "execute_result"
    }
   ],
   "source": [
    "def TinhToan(x):\n",
    "    return (x['Migrate']/x['Population'])*1000\n",
    "Top5_immigrant=df[['Country' ,'Population' ,'Migrate']].loc[df['Country'].isin(Immigrant_countries['Country'].unique())]\n",
    "Top5_immigrant['Tyle']=Top5_immigrant[['Population','Migrate']].apply(TinhToan,axis=1)\n",
    "Top5_immigrant=Top5_immigrant[['Country','Tyle']].groupby('Country').mean().sort_values('Tyle',ascending=False).reset_index()\n",
    "Top5_immigrant= Top5_immigrant.head(5)\n",
    "Top5_immigrant=Top5_immigrant.set_index(\"Country\")\n",
    "Top5_immigrant.head()"
   ]
  },
  {
   "cell_type": "code",
   "execution_count": 21,
   "metadata": {},
   "outputs": [
    {
     "data": {
      "image/png": "[encoded data removed]",
      "text/plain": [
       "<Figure size 1080x360 with 1 Axes>"
      ]
     },
     "metadata": {
      "needs_background": "light"
     },
     "output_type": "display_data"
    }
   ],
   "source": [
    "plt.figure(figsize=(15,5))\n",
    "y=np.arange(len(Top5_immigrant.index.array))\n",
    "x=Top5_immigrant['Tyle']\n",
    "plt.bar(y,x)\n",
    "plt.xticks(y,Top5_immigrant.index)\n",
    "plt.ylabel('Migration rate')\n",
    "plt.title('Top 5 countries that immigrant the most')\n",
    "plt.show()"
   ]
  },
  {
   "attachments": {},
   "cell_type": "markdown",
   "metadata": {},
   "source": [
    "`Comment`: Based on that country's migration data, it is possible to predict problems such as excess or shortage of the labor force, whether migration has any effect on the economy ... ...."
   ]
  },
  {
   "cell_type": "markdown",
   "metadata": {},
   "source": [
    "### Average population growth rate of countries from 1955 to 2020 year"
   ]
  },
  {
   "cell_type": "code",
   "execution_count": 22,
   "metadata": {},
   "outputs": [
    {
     "data": {
      "text/html": [
       "<div>\n",
       "<style scoped>\n",
       "    .dataframe tbody tr th:only-of-type {\n",
       "        vertical-align: middle;\n",
       "    }\n",
       "\n",
       "    .dataframe tbody tr th {\n",
       "        vertical-align: top;\n",
       "    }\n",
       "\n",
       "    .dataframe thead th {\n",
       "        text-align: right;\n",
       "    }\n",
       "</style>\n",
       "<table border=\"1\" class=\"dataframe\">\n",
       "  <thead>\n",
       "    <tr style=\"text-align: right;\">\n",
       "      <th></th>\n",
       "      <th>Average annual population growth rate</th>\n",
       "    </tr>\n",
       "    <tr>\n",
       "      <th>Country</th>\n",
       "      <th></th>\n",
       "    </tr>\n",
       "  </thead>\n",
       "  <tbody>\n",
       "    <tr>\n",
       "      <th>cac-tieu-vuong-quoc-a-rap-thong-nhat</th>\n",
       "      <td>0.077015</td>\n",
       "    </tr>\n",
       "    <tr>\n",
       "      <th>qatar</th>\n",
       "      <td>0.069808</td>\n",
       "    </tr>\n",
       "    <tr>\n",
       "      <th>kuwait</th>\n",
       "      <td>0.049754</td>\n",
       "    </tr>\n",
       "    <tr>\n",
       "      <th>jordan</th>\n",
       "      <td>0.042477</td>\n",
       "    </tr>\n",
       "    <tr>\n",
       "      <th>bahrain</th>\n",
       "      <td>0.039924</td>\n",
       "    </tr>\n",
       "  </tbody>\n",
       "</table>\n",
       "</div>"
      ],
      "text/plain": [
       "                                      Average annual population growth rate\n",
       "Country                                                                    \n",
       "cac-tieu-vuong-quoc-a-rap-thong-nhat                               0.077015\n",
       "qatar                                                              0.069808\n",
       "kuwait                                                             0.049754\n",
       "jordan                                                             0.042477\n",
       "bahrain                                                            0.039924"
      ]
     },
     "execution_count": 22,
     "metadata": {},
     "output_type": "execute_result"
    }
   ],
   "source": [
    "NameCountry_arr=df['Country'].unique()\n",
    "Aver_growt_data={}\n",
    "Aver_growt_data['Country']=[]\n",
    "Aver_growt_data['Average annual population growth rate']=[]\n",
    "for i in NameCountry_arr:\n",
    "    KQ=[]\n",
    "    Aver_growt_rate=df[['Year','Country','Population']][df['Country']==i].sort_values('Year',ascending=False)\n",
    "    size_arr=len(Aver_growt_rate)\n",
    "    Aver_growt_rate.index=range(1,size_arr+1)\n",
    "    Toal=Aver_growt_rate['Population'][1] / Aver_growt_rate['Population'][18]\n",
    "    Toal=Toal**(1/(Aver_growt_rate['Year'][1]-Aver_growt_rate['Year'][18]))\n",
    "    Toal=Toal-1\n",
    "    Aver_growt_data['Country'].append(i)\n",
    "    Aver_growt_data['Average annual population growth rate'].append(Toal)\n",
    "Aver_growt_data=pd.DataFrame(Aver_growt_data) \n",
    "Aver_growt_data=Aver_growt_data.sort_values('Average annual population growth rate',ascending=False)\n",
    "Aver_growt_data=Aver_growt_data.head(5).set_index(\"Country\")\n",
    "Aver_growt_data\n",
    "\n"
   ]
  },
  {
   "cell_type": "code",
   "execution_count": 23,
   "metadata": {},
   "outputs": [
    {
     "data": {
      "image/png": "[encoded data removed]",
      "text/plain": [
       "<Figure size 1080x360 with 1 Axes>"
      ]
     },
     "metadata": {
      "needs_background": "light"
     },
     "output_type": "display_data"
    }
   ],
   "source": [
    "plt.figure(figsize=(15,5))\n",
    "y=np.arange(len(Aver_growt_data.index.array))\n",
    "x=Aver_growt_data['Average annual population growth rate']\n",
    "plt.bar(y,x)\n",
    "plt.xticks(y,Aver_growt_data.index)\n",
    "plt.title(' Top 5 average population growth rate of countries')\n",
    "plt.show()\n"
   ]
  },
  {
   "attachments": {},
   "cell_type": "markdown",
   "metadata": {},
   "source": [
    "`Comment`: Based on the average growth rate, we can make judgments about how fast or slow population growth affects people's lives and economy."
   ]
  },
  {
   "cell_type": "markdown",
   "metadata": {},
   "source": [
    "### The most/least populous country in area in each year"
   ]
  },
  {
   "cell_type": "code",
   "execution_count": 24,
   "metadata": {},
   "outputs": [
    {
     "data": {
      "text/html": [
       "<div>\n",
       "<style scoped>\n",
       "    .dataframe tbody tr th:only-of-type {\n",
       "        vertical-align: middle;\n",
       "    }\n",
       "\n",
       "    .dataframe tbody tr th {\n",
       "        vertical-align: top;\n",
       "    }\n",
       "\n",
       "    .dataframe thead th {\n",
       "        text-align: right;\n",
       "    }\n",
       "</style>\n",
       "<table border=\"1\" class=\"dataframe\">\n",
       "  <thead>\n",
       "    <tr style=\"text-align: right;\">\n",
       "      <th></th>\n",
       "      <th>Most populous in ASIA</th>\n",
       "      <th>Min populous in ASIA</th>\n",
       "      <th>Most populous in North America</th>\n",
       "      <th>Min populous in North America</th>\n",
       "    </tr>\n",
       "    <tr>\n",
       "      <th>Year</th>\n",
       "      <th></th>\n",
       "      <th></th>\n",
       "      <th></th>\n",
       "      <th></th>\n",
       "    </tr>\n",
       "  </thead>\n",
       "  <tbody>\n",
       "    <tr>\n",
       "      <th>1955</th>\n",
       "      <td>trung-quoc</td>\n",
       "      <td>qatar</td>\n",
       "      <td>hoa-ky</td>\n",
       "      <td>saint-pierre-va-miquelon</td>\n",
       "    </tr>\n",
       "    <tr>\n",
       "      <th>1960</th>\n",
       "      <td>trung-quoc</td>\n",
       "      <td>qatar</td>\n",
       "      <td>hoa-ky</td>\n",
       "      <td>saint-pierre-va-miquelon</td>\n",
       "    </tr>\n",
       "    <tr>\n",
       "      <th>1965</th>\n",
       "      <td>trung-quoc</td>\n",
       "      <td>qatar</td>\n",
       "      <td>hoa-ky</td>\n",
       "      <td>saint-pierre-va-miquelon</td>\n",
       "    </tr>\n",
       "    <tr>\n",
       "      <th>1970</th>\n",
       "      <td>trung-quoc</td>\n",
       "      <td>qatar</td>\n",
       "      <td>hoa-ky</td>\n",
       "      <td>saint-pierre-va-miquelon</td>\n",
       "    </tr>\n",
       "    <tr>\n",
       "      <th>1975</th>\n",
       "      <td>trung-quoc</td>\n",
       "      <td>maldives</td>\n",
       "      <td>hoa-ky</td>\n",
       "      <td>saint-pierre-va-miquelon</td>\n",
       "    </tr>\n",
       "    <tr>\n",
       "      <th>1980</th>\n",
       "      <td>trung-quoc</td>\n",
       "      <td>maldives</td>\n",
       "      <td>hoa-ky</td>\n",
       "      <td>saint-pierre-va-miquelon</td>\n",
       "    </tr>\n",
       "    <tr>\n",
       "      <th>1985</th>\n",
       "      <td>trung-quoc</td>\n",
       "      <td>maldives</td>\n",
       "      <td>hoa-ky</td>\n",
       "      <td>saint-pierre-va-miquelon</td>\n",
       "    </tr>\n",
       "    <tr>\n",
       "      <th>1990</th>\n",
       "      <td>trung-quoc</td>\n",
       "      <td>maldives</td>\n",
       "      <td>hoa-ky</td>\n",
       "      <td>saint-pierre-va-miquelon</td>\n",
       "    </tr>\n",
       "    <tr>\n",
       "      <th>1995</th>\n",
       "      <td>trung-quoc</td>\n",
       "      <td>maldives</td>\n",
       "      <td>hoa-ky</td>\n",
       "      <td>saint-pierre-va-miquelon</td>\n",
       "    </tr>\n",
       "    <tr>\n",
       "      <th>2000</th>\n",
       "      <td>trung-quoc</td>\n",
       "      <td>maldives</td>\n",
       "      <td>hoa-ky</td>\n",
       "      <td>saint-pierre-va-miquelon</td>\n",
       "    </tr>\n",
       "    <tr>\n",
       "      <th>2005</th>\n",
       "      <td>trung-quoc</td>\n",
       "      <td>maldives</td>\n",
       "      <td>hoa-ky</td>\n",
       "      <td>saint-pierre-va-miquelon</td>\n",
       "    </tr>\n",
       "    <tr>\n",
       "      <th>2010</th>\n",
       "      <td>trung-quoc</td>\n",
       "      <td>maldives</td>\n",
       "      <td>hoa-ky</td>\n",
       "      <td>saint-pierre-va-miquelon</td>\n",
       "    </tr>\n",
       "    <tr>\n",
       "      <th>2015</th>\n",
       "      <td>trung-quoc</td>\n",
       "      <td>brunei</td>\n",
       "      <td>hoa-ky</td>\n",
       "      <td>saint-pierre-va-miquelon</td>\n",
       "    </tr>\n",
       "    <tr>\n",
       "      <th>2016</th>\n",
       "      <td>trung-quoc</td>\n",
       "      <td>brunei</td>\n",
       "      <td>hoa-ky</td>\n",
       "      <td>saint-pierre-va-miquelon</td>\n",
       "    </tr>\n",
       "    <tr>\n",
       "      <th>2017</th>\n",
       "      <td>trung-quoc</td>\n",
       "      <td>brunei</td>\n",
       "      <td>hoa-ky</td>\n",
       "      <td>saint-pierre-va-miquelon</td>\n",
       "    </tr>\n",
       "    <tr>\n",
       "      <th>2018</th>\n",
       "      <td>trung-quoc</td>\n",
       "      <td>brunei</td>\n",
       "      <td>hoa-ky</td>\n",
       "      <td>saint-pierre-va-miquelon</td>\n",
       "    </tr>\n",
       "    <tr>\n",
       "      <th>2019</th>\n",
       "      <td>trung-quoc</td>\n",
       "      <td>brunei</td>\n",
       "      <td>hoa-ky</td>\n",
       "      <td>saint-pierre-va-miquelon</td>\n",
       "    </tr>\n",
       "    <tr>\n",
       "      <th>2020</th>\n",
       "      <td>trung-quoc</td>\n",
       "      <td>brunei</td>\n",
       "      <td>hoa-ky</td>\n",
       "      <td>saint-pierre-va-miquelon</td>\n",
       "    </tr>\n",
       "  </tbody>\n",
       "</table>\n",
       "</div>"
      ],
      "text/plain": [
       "     Most populous in ASIA Min populous in ASIA  \\\n",
       "Year                                              \n",
       "1955            trung-quoc                qatar   \n",
       "1960            trung-quoc                qatar   \n",
       "1965            trung-quoc                qatar   \n",
       "1970            trung-quoc                qatar   \n",
       "1975            trung-quoc             maldives   \n",
       "1980            trung-quoc             maldives   \n",
       "1985            trung-quoc             maldives   \n",
       "1990            trung-quoc             maldives   \n",
       "1995            trung-quoc             maldives   \n",
       "2000            trung-quoc             maldives   \n",
       "2005            trung-quoc             maldives   \n",
       "2010            trung-quoc             maldives   \n",
       "2015            trung-quoc               brunei   \n",
       "2016            trung-quoc               brunei   \n",
       "2017            trung-quoc               brunei   \n",
       "2018            trung-quoc               brunei   \n",
       "2019            trung-quoc               brunei   \n",
       "2020            trung-quoc               brunei   \n",
       "\n",
       "     Most populous in North America Min populous in North America  \n",
       "Year                                                               \n",
       "1955                         hoa-ky      saint-pierre-va-miquelon  \n",
       "1960                         hoa-ky      saint-pierre-va-miquelon  \n",
       "1965                         hoa-ky      saint-pierre-va-miquelon  \n",
       "1970                         hoa-ky      saint-pierre-va-miquelon  \n",
       "1975                         hoa-ky      saint-pierre-va-miquelon  \n",
       "1980                         hoa-ky      saint-pierre-va-miquelon  \n",
       "1985                         hoa-ky      saint-pierre-va-miquelon  \n",
       "1990                         hoa-ky      saint-pierre-va-miquelon  \n",
       "1995                         hoa-ky      saint-pierre-va-miquelon  \n",
       "2000                         hoa-ky      saint-pierre-va-miquelon  \n",
       "2005                         hoa-ky      saint-pierre-va-miquelon  \n",
       "2010                         hoa-ky      saint-pierre-va-miquelon  \n",
       "2015                         hoa-ky      saint-pierre-va-miquelon  \n",
       "2016                         hoa-ky      saint-pierre-va-miquelon  \n",
       "2017                         hoa-ky      saint-pierre-va-miquelon  \n",
       "2018                         hoa-ky      saint-pierre-va-miquelon  \n",
       "2019                         hoa-ky      saint-pierre-va-miquelon  \n",
       "2020                         hoa-ky      saint-pierre-va-miquelon  "
      ]
     },
     "execution_count": 24,
     "metadata": {},
     "output_type": "execute_result"
    }
   ],
   "source": [
    "def MinMaxPl(a):\n",
    "    Temp=df[['Year','Country','Population']]\n",
    "    A=a.values\n",
    "    A=A[0]\n",
    "    Temp=Temp[Temp.Country.isin(A)]\n",
    "    Temp=Temp.pivot(index='Year',columns='Country',values='Population')\n",
    "    Populous_most_least={}\n",
    "    if len(A)> 5:\n",
    "        Populous_most_least['Most populous in ASIA']=Temp.idxmax(axis=1).values\n",
    "        Populous_most_least['Min populous in ASIA']=Temp.idxmin(axis=1).values\n",
    "    else: \n",
    "        Populous_most_least['Most populous in North America']=Temp.idxmax(axis=1).values\n",
    "        Populous_most_least['Min populous in North America']=Temp.idxmin(axis=1).values\n",
    "    Populous_most_least=pd.DataFrame(Populous_most_least,index=Temp.index)\n",
    "    return Populous_most_least\n",
    "\n",
    "Asia_population=MinMaxPl(Asia)\n",
    "NorthAmerica_population=MinMaxPl(North_America)\n",
    "Sum_Asia_NorthAmerica= pd.concat([Asia_population,NorthAmerica_population] ,axis=1)\n",
    "Sum_Asia_NorthAmerica"
   ]
  },
  {
   "attachments": {},
   "cell_type": "markdown",
   "metadata": {},
   "source": [
    "### Compare the population of 2 continents from 1955 - 2020"
   ]
  },
  {
   "cell_type": "code",
   "execution_count": 67,
   "metadata": {},
   "outputs": [
    {
     "data": {
      "image/png": "[encoded data removed]",
      "text/plain": [
       "<Figure size 720x360 with 1 Axes>"
      ]
     },
     "metadata": {
      "needs_background": "light"
     },
     "output_type": "display_data"
    }
   ],
   "source": [
    "Asia=Asia.T\n",
    "Country_Asia=Asia.values.reshape(-1)\n",
    "Asia_sum=df[df.Country.isin(Country_Asia)].reset_index().drop(\"index\",axis=1)\n",
    "Asia_sum=Asia_sum[[\"Year\",\"Population\"]]\n",
    "Asia_sum=Asia_sum.groupby(\"Year\").sum()\n",
    "Asia_sum=Asia_sum.rename(columns={\"Population\": \"Population_Asia\"})\n",
    "\n",
    "\n",
    "North_America=North_America.T\n",
    "Country_North_America=North_America.values.reshape(-1)\n",
    "North_America_sum=df[df.Country.isin(Country_North_America)].reset_index().drop(\"index\",axis=1)\n",
    "North_America_sum=North_America_sum[[\"Year\",\"Population\"]]\n",
    "North_America_sum=North_America_sum.groupby(\"Year\").sum()\n",
    "North_America_sum=North_America_sum.rename(columns={\"Population\": \"Population_North_America\"})\n",
    "Compare_population=pd.concat([Asia_sum,North_America_sum],axis=1)\n",
    "\n",
    "\n",
    "Compare_population.plot.bar(figsize=(10,5))\n",
    "plt.xlabel('Year'); plt.ylabel('Number of Population') \n",
    "plt.xticks(rotation=0) \n",
    "plt.title(\"Compare the population of 2 continents from 1955 - 2020\")\n",
    "plt.show()\n"
   ]
  },
  {
   "attachments": {},
   "cell_type": "markdown",
   "metadata": {},
   "source": [
    "`Comment:` The big difference between the population of the two continents. Looking at the graph, we can see that the population growth rate in Asia is much faster than the population in North America."
   ]
  },
  {
   "attachments": {},
   "cell_type": "markdown",
   "metadata": {},
   "source": [
    "### Percentage of population living in urban areas over the years between Asia and North America"
   ]
  },
  {
   "cell_type": "code",
   "execution_count": 68,
   "metadata": {},
   "outputs": [
    {
     "data": {
      "image/png": "[encoded data removed]",
      "text/plain": [
       "<Figure size 720x360 with 1 Axes>"
      ]
     },
     "metadata": {
      "needs_background": "light"
     },
     "output_type": "display_data"
    }
   ],
   "source": [
    "Asia=Asia.T\n",
    "Country_Asia=Asia.values.reshape(-1)\n",
    "Asia_Per=df[df.Country.isin(Country_Asia)].reset_index().drop(\"index\",axis=1)\n",
    "Asia_Per=Asia_Per[[\"Year\",\"Population\", \"Urban_resident\"]]\n",
    "Asia_Per=Asia_Per.groupby(\"Year\").sum()\n",
    "Per_Urban=np.zeros(len(Asia_Per.index.array))\n",
    "Per_Urban=Per_Urban.astype(\"int64\")\n",
    "Asia_Per[\"Per_Urban_Asia\"]=Per_Urban\n",
    "def Per_UR(x):\n",
    "    return  round((x[\"Urban_resident\"] / x[\"Population\"])*100,3)\n",
    "Asia_Per[\"Per_Urban_Asia\"]=Asia_Per[[\"Per_Urban_Asia\",\"Urban_resident\",\"Population\"]].apply(lambda x : Per_UR(x),axis=1)\n",
    "Asia_Per=Asia_Per.drop(\"Population\",axis=1)\n",
    "Asia_Per=Asia_Per.drop(\"Urban_resident\",axis=1)\n",
    "# Asia_Per\n",
    "\n",
    "\n",
    "\n",
    "North_America=North_America.T\n",
    "Country_North_America=North_America.values.reshape(-1)\n",
    "North_America_Per=df[df.Country.isin(Country_North_America)].reset_index().drop(\"index\",axis=1)\n",
    "North_America_Per=North_America_Per[[\"Year\",\"Population\", \"Urban_resident\"]]\n",
    "North_America_Per=North_America_Per.groupby(\"Year\").sum()\n",
    "Per_Urban=np.zeros(len(North_America_Per.index.array))\n",
    "Per_Urban=Per_Urban.astype(\"int64\")\n",
    "North_America_Per[\"Per_Urban_North_America\"]=Per_Urban\n",
    "def Per_UR(x):\n",
    "    return  round((x[\"Urban_resident\"] / x[\"Population\"])*100,3)\n",
    "North_America_Per[\"Per_Urban_North_America\"]=North_America_Per[[\"Per_Urban_North_America\",\"Urban_resident\",\"Population\"]].apply(lambda x : Per_UR(x),axis=1)\n",
    "North_America_Per=North_America_Per.drop(\"Population\",axis=1)\n",
    "North_America_Per=North_America_Per.drop(\"Urban_resident\",axis=1)\n",
    "\n",
    "\n",
    "Per_Urban=pd.concat([Asia_Per,North_America_Per],axis=1)\n",
    "Per_Urban.plot.bar(figsize=(10,5))\n",
    "plt.xlabel('Year'); plt.ylabel('Percent of Urban_resident')\n",
    "plt.xticks(rotation=0) \n",
    "plt.title(\"Percent the Urban_resident of 2 continents from 1955 - 2020\")\n",
    "plt.show()\n",
    "\n"
   ]
  },
  {
   "attachments": {},
   "cell_type": "markdown",
   "metadata": {},
   "source": [
    "`Comment`: From the chart, we can see that the proportion of urban population in North America is much higher than in Asia, from which it can be concluded that the quality of economic growth and the level of socio-economic development of North America is higher than in Asia"
   ]
  },
  {
   "attachments": {},
   "cell_type": "markdown",
   "metadata": {},
   "source": [
    "## Building model\n",
    "---"
   ]
  },
  {
   "attachments": {},
   "cell_type": "markdown",
   "metadata": {},
   "source": [
    "### Step 1: Let's explore some infomations from data of column population and year of the data frame before bulding model.\n",
    "\n",
    "Choose the bermuda country for some explores."
   ]
  },
  {
   "cell_type": "code",
   "execution_count": 34,
   "metadata": {},
   "outputs": [
    {
     "data": {
      "text/html": [
       "<div>\n",
       "<style scoped>\n",
       "    .dataframe tbody tr th:only-of-type {\n",
       "        vertical-align: middle;\n",
       "    }\n",
       "\n",
       "    .dataframe tbody tr th {\n",
       "        vertical-align: top;\n",
       "    }\n",
       "\n",
       "    .dataframe thead th {\n",
       "        text-align: right;\n",
       "    }\n",
       "</style>\n",
       "<table border=\"1\" class=\"dataframe\">\n",
       "  <thead>\n",
       "    <tr style=\"text-align: right;\">\n",
       "      <th></th>\n",
       "      <th>Country</th>\n",
       "      <th>Year</th>\n",
       "      <th>Population</th>\n",
       "      <th>Change</th>\n",
       "      <th>Migrate</th>\n",
       "      <th>Urban_resident</th>\n",
       "    </tr>\n",
       "  </thead>\n",
       "  <tbody>\n",
       "    <tr>\n",
       "      <th>0</th>\n",
       "      <td>bermuda</td>\n",
       "      <td>2019</td>\n",
       "      <td>62506</td>\n",
       "      <td>-250</td>\n",
       "      <td>1250</td>\n",
       "      <td>60833</td>\n",
       "    </tr>\n",
       "    <tr>\n",
       "      <th>1</th>\n",
       "      <td>bermuda</td>\n",
       "      <td>2018</td>\n",
       "      <td>62756</td>\n",
       "      <td>-293</td>\n",
       "      <td>1255</td>\n",
       "      <td>61070</td>\n",
       "    </tr>\n",
       "    <tr>\n",
       "      <th>2</th>\n",
       "      <td>bermuda</td>\n",
       "      <td>2017</td>\n",
       "      <td>63049</td>\n",
       "      <td>-313</td>\n",
       "      <td>1261</td>\n",
       "      <td>61349</td>\n",
       "    </tr>\n",
       "    <tr>\n",
       "      <th>3</th>\n",
       "      <td>bermuda</td>\n",
       "      <td>2016</td>\n",
       "      <td>63362</td>\n",
       "      <td>-330</td>\n",
       "      <td>1267</td>\n",
       "      <td>61666</td>\n",
       "    </tr>\n",
       "    <tr>\n",
       "      <th>4</th>\n",
       "      <td>bermuda</td>\n",
       "      <td>2015</td>\n",
       "      <td>63692</td>\n",
       "      <td>-339</td>\n",
       "      <td>1274</td>\n",
       "      <td>62003</td>\n",
       "    </tr>\n",
       "  </tbody>\n",
       "</table>\n",
       "</div>"
      ],
      "text/plain": [
       "   Country  Year  Population  Change  Migrate  Urban_resident\n",
       "0  bermuda  2019       62506    -250     1250           60833\n",
       "1  bermuda  2018       62756    -293     1255           61070\n",
       "2  bermuda  2017       63049    -313     1261           61349\n",
       "3  bermuda  2016       63362    -330     1267           61666\n",
       "4  bermuda  2015       63692    -339     1274           62003"
      ]
     },
     "execution_count": 34,
     "metadata": {},
     "output_type": "execute_result"
    }
   ],
   "source": [
    "bermudaInfo = df.loc[df.Country == 'bermuda']\n",
    "bermudaInfo.head(5)"
   ]
  },
  {
   "cell_type": "code",
   "execution_count": 35,
   "metadata": {},
   "outputs": [
    {
     "data": {
      "text/html": [
       "<div>\n",
       "<style scoped>\n",
       "    .dataframe tbody tr th:only-of-type {\n",
       "        vertical-align: middle;\n",
       "    }\n",
       "\n",
       "    .dataframe tbody tr th {\n",
       "        vertical-align: top;\n",
       "    }\n",
       "\n",
       "    .dataframe thead th {\n",
       "        text-align: right;\n",
       "    }\n",
       "</style>\n",
       "<table border=\"1\" class=\"dataframe\">\n",
       "  <thead>\n",
       "    <tr style=\"text-align: right;\">\n",
       "      <th></th>\n",
       "      <th>Year</th>\n",
       "      <th>Population</th>\n",
       "    </tr>\n",
       "  </thead>\n",
       "  <tbody>\n",
       "    <tr>\n",
       "      <th>16</th>\n",
       "      <td>1955</td>\n",
       "      <td>40708</td>\n",
       "    </tr>\n",
       "    <tr>\n",
       "      <th>15</th>\n",
       "      <td>1960</td>\n",
       "      <td>44979</td>\n",
       "    </tr>\n",
       "    <tr>\n",
       "      <th>14</th>\n",
       "      <td>1965</td>\n",
       "      <td>49388</td>\n",
       "    </tr>\n",
       "    <tr>\n",
       "      <th>13</th>\n",
       "      <td>1970</td>\n",
       "      <td>52565</td>\n",
       "    </tr>\n",
       "    <tr>\n",
       "      <th>12</th>\n",
       "      <td>1975</td>\n",
       "      <td>55400</td>\n",
       "    </tr>\n",
       "  </tbody>\n",
       "</table>\n",
       "</div>"
      ],
      "text/plain": [
       "    Year  Population\n",
       "16  1955       40708\n",
       "15  1960       44979\n",
       "14  1965       49388\n",
       "13  1970       52565\n",
       "12  1975       55400"
      ]
     },
     "execution_count": 35,
     "metadata": {},
     "output_type": "execute_result"
    }
   ],
   "source": [
    "bermudaInfo = bermudaInfo[['Year','Population']].sort_values('Year')\n",
    "bermudaInfo.head(5)"
   ]
  },
  {
   "cell_type": "markdown",
   "metadata": {},
   "source": [
    "Visualize the data of bermuda country."
   ]
  },
  {
   "cell_type": "code",
   "execution_count": 36,
   "metadata": {},
   "outputs": [
    {
     "data": {
      "text/plain": [
       "Text(0, 0.5, 'Population')"
      ]
     },
     "execution_count": 36,
     "metadata": {},
     "output_type": "execute_result"
    },
    {
     "data": {
      "image/png": "[encoded data removed]",
      "text/plain": [
       "<Figure size 640x480 with 1 Axes>"
      ]
     },
     "metadata": {},
     "output_type": "display_data"
    }
   ],
   "source": [
    "plt.style.use('seaborn-whitegrid')\n",
    "xIndex = np.array(bermudaInfo.Year)\n",
    "yIndex = np.array(bermudaInfo.Population)\n",
    "plt.plot(xIndex, yIndex, color = 'blue')\n",
    "plt.title(f\"Population of Bermuda country\")\n",
    "plt.xlabel(\"Year\")\n",
    "plt.ylabel(\"Population\")"
   ]
  },
  {
   "attachments": {},
   "cell_type": "markdown",
   "metadata": {},
   "source": [
    "### Step 2: After exploring we start finding insight of data given and build model."
   ]
  },
  {
   "cell_type": "markdown",
   "metadata": {},
   "source": [
    "##### - We will build the model that can predict population of the country in the future and we use linear regression method to build."
   ]
  },
  {
   "attachments": {},
   "cell_type": "markdown",
   "metadata": {},
   "source": [
    "- Using model: `y = a_0*x^0 + a_1*x^1 + ..... + a_n*x^n.`\n",
    "\n",
    "- Caculate a (a_0, a_1, .... a_n) by using the formula: `(A^T * A)^-1 * A^T *B.`\n",
    "\n",
    "        With:\n",
    "            A = [theta_0...theta_n]  :list years.\n",
    "                [theta_0...theta_n]\n",
    "                [  .         .    ]\n",
    "                [  .         .    ]\n",
    "                [theta_0...theta_n]\n",
    "            Size of A: m nows x n + 1 columns.\n",
    "            \n",
    "            Ex: If we have list years: 2011 2012 2013 2014 (m = 4) and n is 2, A will be:\n",
    "                [2011^0 2011^1 2011^2]\n",
    "                [2012^0 2012^1 2012^2]\n",
    "                [2013^0 2013^1 2013^2]\n",
    "                [2014^0 2014^1 2014^2]\n",
    "\n",
    "            B = [y0]  :list values of field.\n",
    "                [y1]\n",
    "                [. ]\n",
    "                [. ]\n",
    "                [yn]\n",
    "            Size of B: m nows x 1 columns.\n",
    "            \n",
    "            Ex: If we have list years: 2011 2012 2013 2014 and population for each year is: 100 200 300 400 (m = 4), B will be:\n",
    "                [100]\n",
    "                [200]\n",
    "                [300]\n",
    "                [400]\n",
    "                    \n",
    "- Calculate the residual value using the formula: `||r|| = ||A*x – B||.`\n",
    "\n",
    "        With:\n",
    "            x = (A^T * A)^-1 * A^T *B\n",
    "              = [a_0]\n",
    "                [a_1]\n",
    "                [ . ]\n",
    "                [ . ]\n",
    "                [a_n]"
   ]
  },
  {
   "attachments": {},
   "cell_type": "markdown",
   "metadata": {},
   "source": [
    "### Model: Build model base on the formula given, main idea is using year field to predict another fields in data.\n",
    "---"
   ]
  },
  {
   "attachments": {},
   "cell_type": "markdown",
   "metadata": {},
   "source": [
    "#### Build processing."
   ]
  },
  {
   "attachments": {},
   "cell_type": "markdown",
   "metadata": {},
   "source": [
    "- Prepare data for caculation by the way give list values of field and year from data frame.</br>\n",
    "    - Input: data frame, name of country and field of data you want to predict.</br>\n",
    "    - Output: data for predict processing.</br>"
   ]
  },
  {
   "cell_type": "code",
   "execution_count": 37,
   "metadata": {},
   "outputs": [],
   "source": [
    "def prepareDataForCalculate(country,dataFrame,field):\n",
    "    countryInfo = dataFrame.loc[(dataFrame.Country == country),['Year',field]]\n",
    "    countryInfo = countryInfo.sort_values('Year')\n",
    "    # Change data for suitable to caculate\n",
    "    xIndex = np.array(countryInfo.Year)\n",
    "    yIndex = np.array(countryInfo[field])\n",
    "   \n",
    "    return xIndex, yIndex"
   ]
  },
  {
   "attachments": {},
   "cell_type": "markdown",
   "metadata": {},
   "source": [
    "- Give data and remake data for using formula to caculate meaningful values.</br>\n",
    "    - Input: data for processing and max pow of x varible in function f(x).</br>\n",
    "    - Output: vecter A, vecter B and thetahat vecter for caculate the residual value of model.</br>"
   ]
  },
  {
   "cell_type": "code",
   "execution_count": 38,
   "metadata": {},
   "outputs": [],
   "source": [
    "def calValueForModel(xIndex,yIndex,powN):\n",
    "    powN = int(powN)\n",
    "    size = len(xIndex)\n",
    "    A = xIndex.reshape(-1,1)\n",
    "    root = np.copy(A)\n",
    "    x0Index = np.ones(len(xIndex))\n",
    "\n",
    "    x0Index= x0Index.reshape(-1,1)\n",
    "    A = np.append(x0Index,A,axis=1)\n",
    "\n",
    "    yIndex = yIndex.reshape(-1,1)\n",
    "\n",
    "    for i in range(2,powN+1):\n",
    "        xJ = np.ones(size)\n",
    "        xJ = xJ.reshape(-1,1)\n",
    "        for j in range(i):\n",
    "            xJ = np.array(xJ*root)\n",
    "        A = np.append(A,xJ,axis=1)\n",
    "\n",
    "    B = np.array(yIndex)\n",
    "    # Caculate parameters\n",
    "    thetaHat = np.linalg.inv(A.T@A)@(A.T@B)\n",
    "    return A,B, thetaHat"
   ]
  },
  {
   "attachments": {},
   "cell_type": "markdown",
   "metadata": {},
   "source": [
    "- Caculate the residual value of model\n",
    "    - Input: vecter A, vecter B and thetahat vecter.\n",
    "    - Output: the residual value of model."
   ]
  },
  {
   "cell_type": "code",
   "execution_count": 39,
   "metadata": {},
   "outputs": [],
   "source": [
    "def caculateNormR(A, B, thetaHat):\n",
    "    R = np.linalg.norm(A@thetaHat - B)\n",
    "    return R"
   ]
  },
  {
   "attachments": {},
   "cell_type": "markdown",
   "metadata": {},
   "source": [
    "- Build model by using functions had been built. Main point is find R and x that is mention of formula."
   ]
  },
  {
   "cell_type": "code",
   "execution_count": 40,
   "metadata": {},
   "outputs": [],
   "source": [
    "def buildModelField(country,dataFrame,field,powN):\n",
    "    xIndex, yIndex = prepareDataForCalculate(country,dataFrame,field)\n",
    "    A,B, thetaHat = calValueForModel(xIndex,yIndex,powN)\n",
    "    R = caculateNormR(A, B, thetaHat)\n",
    "    return thetaHat, R"
   ]
  },
  {
   "attachments": {},
   "cell_type": "markdown",
   "metadata": {},
   "source": [
    "- Find the best rank of model when using maximum of n is 45, that is decision by residual value (R). So, the target of \n",
    "this function is finding minimum R then return the rank at minimum R."
   ]
  },
  {
   "cell_type": "code",
   "execution_count": 41,
   "metadata": {},
   "outputs": [],
   "source": [
    "def findTheBestNForMinRField(country,field,dataFrame):\n",
    "    # The maximum size that computer can caculate. \n",
    "    maxSize = 45\n",
    "    rArray = []\n",
    "    for i in range(1,maxSize):\n",
    "        theta, R = buildModelField(country,dataFrame,field,i)\n",
    "        rArray.append(R)\n",
    "    rArray = np.array(rArray)\n",
    "    minValue = np.amin(rArray)\n",
    "    minPos = np.where(rArray == minValue)\n",
    "    minPos = np.amin(minPos)\n",
    "\n",
    "    return minPos, minValue"
   ]
  },
  {
   "attachments": {},
   "cell_type": "markdown",
   "metadata": {},
   "source": [
    "- Print infomation of field you want to predict and give some evaluations about model will be built."
   ]
  },
  {
   "cell_type": "code",
   "execution_count": 42,
   "metadata": {},
   "outputs": [],
   "source": [
    "def printInfoField(country,field,powN,minR):\n",
    "    print(f\"Predict {field} for {country} country.\")\n",
    "    print(f\"The minimum value of R is: {minR}, and N (maximum power of x) is: {powN}.\")\n",
    "    print(f\"The above information means that the {field} deviation when using the X^({powN}) model to predict is from real data.\")"
   ]
  },
  {
   "attachments": {},
   "cell_type": "markdown",
   "metadata": {},
   "source": [
    "- Caculate value of y (the function given initially) after finding all variable.\n",
    "    - Input: list of year, array of thetahat vecter.\n",
    "    - Output: value of y."
   ]
  },
  {
   "cell_type": "code",
   "execution_count": 43,
   "metadata": {},
   "outputs": [],
   "source": [
    "def caculateFieldForYear(array,year):\n",
    "    arrayUse = array.reshape(-1)\n",
    "    yearUse = float(year)\n",
    "    temp = np.copy(arrayUse[0])\n",
    "    sumP  = temp\n",
    "    for i in range(1,len(arrayUse)):\n",
    "        sumP = sumP + float((np.power(yearUse,i))*float(arrayUse[i]))\n",
    "    return sumP"
   ]
  },
  {
   "attachments": {},
   "cell_type": "markdown",
   "metadata": {},
   "source": [
    "- Predict field base on model. Using functions having been built, step by step create model and then caculate value."
   ]
  },
  {
   "cell_type": "code",
   "execution_count": 44,
   "metadata": {},
   "outputs": [],
   "source": [
    "def predictField(country,field,dataFrame,year,powN):\n",
    "    theta, R = buildModelField(country,dataFrame,field,powN)\n",
    "    large = round(caculateFieldForYear(theta,year))\n",
    "    print(f\"- The {field} of {country} in {year} is: {float(large)}, the residual is: {R}.\")"
   ]
  },
  {
   "attachments": {},
   "cell_type": "markdown",
   "metadata": {},
   "source": [
    "- Visualize for comparing predict model had been built with real data. "
   ]
  },
  {
   "cell_type": "code",
   "execution_count": 45,
   "metadata": {},
   "outputs": [],
   "source": [
    "def compareModelWithRealData(array,listYear,listYReal, countryName):\n",
    "    array = array.reshape(-1)\n",
    "    listPop = np.zeros(len(listYear))\n",
    "    temp = np.copy(array[0])\n",
    "\n",
    "    for index in range(len(listYear)):\n",
    "        sumPop = temp\n",
    "        for i in range(1,len(array)):\n",
    "            sumPop = sumPop + float(np.power(listYear[index],i)*float(array[i]))\n",
    "        listPop[index] = sumPop\n",
    "        \n",
    "    plt.plot(listYear,listPop, color = 'red', label = 'Predict model.');\n",
    "    plt.scatter(listYear,listYReal, color = 'blue', label = 'Real data.');\n",
    "    plt.xlabel(\"Year\");\n",
    "    plt.ylabel(\"Population\");\n",
    "    plt.title(f\"Comprare chart of {countryName} country\")\n",
    "    plt.legend(); "
   ]
  },
  {
   "attachments": {},
   "cell_type": "markdown",
   "metadata": {},
   "source": [
    "- Synthetic informations for comparing predict model with real data.  "
   ]
  },
  {
   "cell_type": "code",
   "execution_count": 46,
   "metadata": {},
   "outputs": [],
   "source": [
    "def compareFieldWithRealData(country,field,dataFrame,powN):\n",
    "    listX, listY = prepareDataForCalculate(country,dataFrame,field)\n",
    "    theta, R = buildModelField(country,dataFrame,field,powN)\n",
    "    compareModelWithRealData(theta,listX,listY,country)\n"
   ]
  },
  {
   "attachments": {},
   "cell_type": "markdown",
   "metadata": {},
   "source": [
    "##### Testing model."
   ]
  },
  {
   "attachments": {},
   "cell_type": "markdown",
   "metadata": {},
   "source": [
    "- Prepare data."
   ]
  },
  {
   "cell_type": "code",
   "execution_count": 47,
   "metadata": {},
   "outputs": [
    {
     "data": {
      "text/plain": [
       "['Country', 'Year', 'Population', 'Change', 'Migrate', 'Urban_resident']"
      ]
     },
     "execution_count": 47,
     "metadata": {},
     "output_type": "execute_result"
    }
   ],
   "source": [
    "listField = list(df.columns)\n",
    "listField"
   ]
  },
  {
   "cell_type": "code",
   "execution_count": 48,
   "metadata": {},
   "outputs": [
    {
     "name": "stdout",
     "output_type": "stream",
     "text": [
      "['bermuda', 'canada', 'greenland', 'hoa-ky', 'saint-pierre-va-miquelon', 'a-rap-xe-ut', 'afghanistan', 'an-do', 'armenia', 'azerbaijan', 'bahrain', 'bangladesh', 'bhutan', 'brunei', 'cac-tieu-vuong-quoc-a-rap-thong-nhat', 'campuchia', 'cong-hoa-sip', 'dai-loan', 'dong-timo', 'georgia', 'han-quoc', 'hong-kong', 'indonesia', 'iran', 'iraq', 'israel', 'jordan', 'kazakhstan', 'kuwait', 'kyrgyzstan', 'lao', 'lebanon', 'ma-cao', 'malaysia', 'maldives', 'mong-co', 'myanmar', 'nepal', 'nhat-ban', 'oman', 'pakistan', 'palestine', 'philippines', 'qatar', 'singapore', 'sri-lanka', 'syria', 'tajikistan', 'thai-lan', 'tho-nhi-ky', 'trieu-tien', 'trung-quoc', 'turkmenistan', 'uzbekistan', 'viet-nam', 'yemen']\n"
     ]
    }
   ],
   "source": [
    "listCountry = df.Country.unique()\n",
    "listCountry = [i for i in listCountry]\n",
    "print(listCountry)"
   ]
  },
  {
   "cell_type": "markdown",
   "metadata": {},
   "source": [
    "Now, let's make some predictions with canada."
   ]
  },
  {
   "cell_type": "markdown",
   "metadata": {},
   "source": [
    "- Check the quality of the model."
   ]
  },
  {
   "cell_type": "code",
   "execution_count": 49,
   "metadata": {},
   "outputs": [
    {
     "name": "stdout",
     "output_type": "stream",
     "text": [
      "Predict Population for canada country.\n",
      "The minimum value of R is: 1007910.3885132923, and N (maximum power of x) is: 2.\n",
      "The above information means that the Population deviation when using the X^(2) model to predict is from real data.\n"
     ]
    }
   ],
   "source": [
    "powFieldValue, minRFieldValue = findTheBestNForMinRField(listCountry[1],listField[5],df)\n",
    "printInfoField(listCountry[1],listField[2],powFieldValue, minRFieldValue)"
   ]
  },
  {
   "cell_type": "markdown",
   "metadata": {},
   "source": [
    "- Predict population of canada in 2019."
   ]
  },
  {
   "cell_type": "code",
   "execution_count": 50,
   "metadata": {},
   "outputs": [
    {
     "name": "stdout",
     "output_type": "stream",
     "text": [
      "- The Population of canada in 2019 is: 37318722.0, the residual is: 1002864.9460018079.\n"
     ]
    }
   ],
   "source": [
    "predictYear = 2019\n",
    "predictField(listCountry[1],listField[2],df,predictYear,powFieldValue)"
   ]
  },
  {
   "cell_type": "markdown",
   "metadata": {},
   "source": [
    "- Compare real data with predict's model data."
   ]
  },
  {
   "cell_type": "code",
   "execution_count": 51,
   "metadata": {},
   "outputs": [
    {
     "data": {
      "image/png": "[encoded data removed]",
      "text/plain": [
       "<Figure size 640x480 with 1 Axes>"
      ]
     },
     "metadata": {},
     "output_type": "display_data"
    }
   ],
   "source": [
    "compareFieldWithRealData(listCountry[1],listField[2],df,powFieldValue)"
   ]
  },
  {
   "attachments": {},
   "cell_type": "markdown",
   "metadata": {},
   "source": [
    "### Using scikitlearn model\n",
    "---\n"
   ]
  },
  {
   "attachments": {},
   "cell_type": "markdown",
   "metadata": {},
   "source": [
    "#### **<font color='blue'>Model 1.0</font>**. Choose one of two models: multi linear regression or polynomial regresion based on the prediction results of the two models on the data set."
   ]
  },
  {
   "cell_type": "code",
   "execution_count": 52,
   "metadata": {},
   "outputs": [],
   "source": [
    "from sklearn.model_selection import train_test_split\n",
    "from sklearn.preprocessing import StandardScaler\n",
    "from sklearn.linear_model import LinearRegression\n",
    "from sklearn.preprocessing import PolynomialFeatures\n",
    "import seaborn as sns\n",
    "from sklearn.metrics import mean_squared_error\n"
   ]
  },
  {
   "attachments": {},
   "cell_type": "markdown",
   "metadata": {},
   "source": [
    "- Prepare data for multi linear regression model."
   ]
  },
  {
   "cell_type": "code",
   "execution_count": 53,
   "metadata": {},
   "outputs": [],
   "source": [
    "def getDataForMTLinear(countryName,fieldPredict,listField):\n",
    "    listData = []\n",
    "    for i in listField:\n",
    "        if i != fieldPredict:\n",
    "            listData.append(i)\n",
    "\n",
    "    result = df.loc[(df.Country == countryName),fieldPredict]\n",
    "    data = df.loc[(df.Country == countryName),listData]\n",
    "    data = data.drop(['Country'],axis = 1)\n",
    "\n",
    "    return data, result"
   ]
  },
  {
   "attachments": {},
   "cell_type": "markdown",
   "metadata": {},
   "source": [
    "- Prepare data for polynomial regression model."
   ]
  },
  {
   "cell_type": "code",
   "execution_count": 54,
   "metadata": {},
   "outputs": [],
   "source": [
    "def getDataForPLLinear(countryName,fieldPredict,fieldData):\n",
    "    result = df.loc[(df.Country == countryName),fieldPredict]\n",
    "    data = df.loc[(df.Country == countryName),fieldData]\n",
    "\n",
    "    return data, result\n"
   ]
  },
  {
   "cell_type": "code",
   "execution_count": 55,
   "metadata": {},
   "outputs": [
    {
     "name": "stdout",
     "output_type": "stream",
     "text": [
      "['bermuda', 'canada', 'greenland', 'hoa-ky', 'saint-pierre-va-miquelon', 'a-rap-xe-ut', 'afghanistan', 'an-do', 'armenia', 'azerbaijan', 'bahrain', 'bangladesh', 'bhutan', 'brunei', 'cac-tieu-vuong-quoc-a-rap-thong-nhat', 'campuchia', 'cong-hoa-sip', 'dai-loan', 'dong-timo', 'georgia', 'han-quoc', 'hong-kong', 'indonesia', 'iran', 'iraq', 'israel', 'jordan', 'kazakhstan', 'kuwait', 'kyrgyzstan', 'lao', 'lebanon', 'ma-cao', 'malaysia', 'maldives', 'mong-co', 'myanmar', 'nepal', 'nhat-ban', 'oman', 'pakistan', 'palestine', 'philippines', 'qatar', 'singapore', 'sri-lanka', 'syria', 'tajikistan', 'thai-lan', 'tho-nhi-ky', 'trieu-tien', 'trung-quoc', 'turkmenistan', 'uzbekistan', 'viet-nam', 'yemen']\n"
     ]
    }
   ],
   "source": [
    "print(listCountry)"
   ]
  },
  {
   "cell_type": "code",
   "execution_count": 56,
   "metadata": {},
   "outputs": [
    {
     "data": {
      "text/plain": [
       "['Country', 'Year', 'Population', 'Change', 'Migrate', 'Urban_resident']"
      ]
     },
     "execution_count": 56,
     "metadata": {},
     "output_type": "execute_result"
    }
   ],
   "source": [
    "listField"
   ]
  },
  {
   "attachments": {},
   "cell_type": "markdown",
   "metadata": {},
   "source": [
    "##### Now, we try to use model to predict population in canada country."
   ]
  },
  {
   "attachments": {},
   "cell_type": "markdown",
   "metadata": {},
   "source": [
    "Multi linear regression."
   ]
  },
  {
   "attachments": {},
   "cell_type": "markdown",
   "metadata": {},
   "source": [
    "- Prepare data."
   ]
  },
  {
   "cell_type": "code",
   "execution_count": 57,
   "metadata": {},
   "outputs": [],
   "source": [
    "needPredict = listField[2]\n",
    "countryPredict = listCountry[1]"
   ]
  },
  {
   "cell_type": "code",
   "execution_count": 58,
   "metadata": {},
   "outputs": [],
   "source": [
    "data, result = getDataForMTLinear(countryPredict ,needPredict,listField)"
   ]
  },
  {
   "cell_type": "code",
   "execution_count": 59,
   "metadata": {},
   "outputs": [],
   "source": [
    "X = data.iloc[:,:].values\n",
    "y = result.iloc[:].values\n",
    "X2 = np.array(np.copy(X))\n",
    "yearTest = np.copy(X2[:,0])"
   ]
  },
  {
   "attachments": {},
   "cell_type": "markdown",
   "metadata": {},
   "source": [
    "- Split data to training and testing set."
   ]
  },
  {
   "cell_type": "code",
   "execution_count": 60,
   "metadata": {},
   "outputs": [],
   "source": [
    "X_train, X_test, y_train, y_test = train_test_split(X, y, test_size = 0.3, random_state = 1)"
   ]
  },
  {
   "attachments": {},
   "cell_type": "markdown",
   "metadata": {},
   "source": [
    "- Scale data so that the data is close to each other."
   ]
  },
  {
   "cell_type": "code",
   "execution_count": 61,
   "metadata": {},
   "outputs": [],
   "source": [
    "sc = StandardScaler()\n",
    "X_train[:,:] = sc.fit_transform(X_train[:,:])\n",
    "X_test[:,:] = sc.transform(X_test[:,:])\n",
    "X2[:,:] = sc.transform(X2[:,:])"
   ]
  },
  {
   "attachments": {},
   "cell_type": "markdown",
   "metadata": {},
   "source": [
    "- Fit data in model."
   ]
  },
  {
   "cell_type": "code",
   "execution_count": 62,
   "metadata": {},
   "outputs": [
    {
     "data": {
      "text/html": [
       "<style>#sk-container-id-1 {color: black;background-color: white;}#sk-container-id-1 pre{padding: 0;}#sk-container-id-1 div.sk-toggleable {background-color: white;}#sk-container-id-1 label.sk-toggleable__label {cursor: pointer;display: block;width: 100%;margin-bottom: 0;padding: 0.3em;box-sizing: border-box;text-align: center;}#sk-container-id-1 label.sk-toggleable__label-arrow:before {content: \"▸\";float: left;margin-right: 0.25em;color: #696969;}#sk-container-id-1 label.sk-toggleable__label-arrow:hover:before {color: black;}#sk-container-id-1 div.sk-estimator:hover label.sk-toggleable__label-arrow:before {color: black;}#sk-container-id-1 div.sk-toggleable__content {max-height: 0;max-width: 0;overflow: hidden;text-align: left;background-color: #f0f8ff;}#sk-container-id-1 div.sk-toggleable__content pre {margin: 0.2em;color: black;border-radius: 0.25em;background-color: #f0f8ff;}#sk-container-id-1 input.sk-toggleable__control:checked~div.sk-toggleable__content {max-height: 200px;max-width: 100%;overflow: auto;}#sk-container-id-1 input.sk-toggleable__control:checked~label.sk-toggleable__label-arrow:before {content: \"▾\";}#sk-container-id-1 div.sk-estimator input.sk-toggleable__control:checked~label.sk-toggleable__label {background-color: #d4ebff;}#sk-container-id-1 div.sk-label input.sk-toggleable__control:checked~label.sk-toggleable__label {background-color: #d4ebff;}#sk-container-id-1 input.sk-hidden--visually {border: 0;clip: rect(1px 1px 1px 1px);clip: rect(1px, 1px, 1px, 1px);height: 1px;margin: -1px;overflow: hidden;padding: 0;position: absolute;width: 1px;}#sk-container-id-1 div.sk-estimator {font-family: monospace;background-color: #f0f8ff;border: 1px dotted black;border-radius: 0.25em;box-sizing: border-box;margin-bottom: 0.5em;}#sk-container-id-1 div.sk-estimator:hover {background-color: #d4ebff;}#sk-container-id-1 div.sk-parallel-item::after {content: \"\";width: 100%;border-bottom: 1px solid gray;flex-grow: 1;}#sk-container-id-1 div.sk-label:hover label.sk-toggleable__label {background-color: #d4ebff;}#sk-container-id-1 div.sk-serial::before {content: \"\";position: absolute;border-left: 1px solid gray;box-sizing: border-box;top: 0;bottom: 0;left: 50%;z-index: 0;}#sk-container-id-1 div.sk-serial {display: flex;flex-direction: column;align-items: center;background-color: white;padding-right: 0.2em;padding-left: 0.2em;position: relative;}#sk-container-id-1 div.sk-item {position: relative;z-index: 1;}#sk-container-id-1 div.sk-parallel {display: flex;align-items: stretch;justify-content: center;background-color: white;position: relative;}#sk-container-id-1 div.sk-item::before, #sk-container-id-1 div.sk-parallel-item::before {content: \"\";position: absolute;border-left: 1px solid gray;box-sizing: border-box;top: 0;bottom: 0;left: 50%;z-index: -1;}#sk-container-id-1 div.sk-parallel-item {display: flex;flex-direction: column;z-index: 1;position: relative;background-color: white;}#sk-container-id-1 div.sk-parallel-item:first-child::after {align-self: flex-end;width: 50%;}#sk-container-id-1 div.sk-parallel-item:last-child::after {align-self: flex-start;width: 50%;}#sk-container-id-1 div.sk-parallel-item:only-child::after {width: 0;}#sk-container-id-1 div.sk-dashed-wrapped {border: 1px dashed gray;margin: 0 0.4em 0.5em 0.4em;box-sizing: border-box;padding-bottom: 0.4em;background-color: white;}#sk-container-id-1 div.sk-label label {font-family: monospace;font-weight: bold;display: inline-block;line-height: 1.2em;}#sk-container-id-1 div.sk-label-container {text-align: center;}#sk-container-id-1 div.sk-container {/* jupyter's `normalize.less` sets `[hidden] { display: none; }` but bootstrap.min.css set `[hidden] { display: none !important; }` so we also need the `!important` here to be able to override the default hidden behavior on the sphinx rendered scikit-learn.org. See: https://github.com/scikit-learn/scikit-learn/issues/21755 */display: inline-block !important;position: relative;}#sk-container-id-1 div.sk-text-repr-fallback {display: none;}</style><div id=\"sk-container-id-1\" class=\"sk-top-container\"><div class=\"sk-text-repr-fallback\"><pre>LinearRegression()</pre><b>In a Jupyter environment, please rerun this cell to show the HTML representation or trust the notebook. <br />On GitHub, the HTML representation is unable to render, please try loading this page with nbviewer.org.</b></div><div class=\"sk-container\" hidden><div class=\"sk-item\"><div class=\"sk-estimator sk-toggleable\"><input class=\"sk-toggleable__control sk-hidden--visually\" id=\"sk-estimator-id-1\" type=\"checkbox\" checked><label for=\"sk-estimator-id-1\" class=\"sk-toggleable__label sk-toggleable__label-arrow\">LinearRegression</label><div class=\"sk-toggleable__content\"><pre>LinearRegression()</pre></div></div></div></div></div>"
      ],
      "text/plain": [
       "LinearRegression()"
      ]
     },
     "execution_count": 62,
     "metadata": {},
     "output_type": "execute_result"
    }
   ],
   "source": [
    "lR = LinearRegression()\n",
    "lR.fit(X_train, y_train)"
   ]
  },
  {
   "attachments": {},
   "cell_type": "markdown",
   "metadata": {},
   "source": [
    "- Evaluate the model on the training set."
   ]
  },
  {
   "cell_type": "code",
   "execution_count": 63,
   "metadata": {},
   "outputs": [
    {
     "data": {
      "text/plain": [
       "0.9480977475525618"
      ]
     },
     "execution_count": 63,
     "metadata": {},
     "output_type": "execute_result"
    }
   ],
   "source": [
    "lrScore = lR.score(X_train, y_train)\n",
    "lrScore"
   ]
  },
  {
   "cell_type": "code",
   "execution_count": 64,
   "metadata": {},
   "outputs": [],
   "source": [
    "y_preds = lR.predict(X_test)\n",
    "y_test = np.array(y_test)"
   ]
  },
  {
   "attachments": {},
   "cell_type": "markdown",
   "metadata": {},
   "source": [
    "- Evaluate the model on predicting."
   ]
  },
  {
   "cell_type": "code",
   "execution_count": 65,
   "metadata": {},
   "outputs": [
    {
     "data": {
      "text/plain": [
       "4583418.606281839"
      ]
     },
     "execution_count": 65,
     "metadata": {},
     "output_type": "execute_result"
    }
   ],
   "source": [
    "lrRMSE = np.sqrt(mean_squared_error(y_test,y_preds))\n",
    "lrRMSE"
   ]
  },
  {
   "attachments": {},
   "cell_type": "markdown",
   "metadata": {},
   "source": [
    "- Convert data to visualize in chart."
   ]
  },
  {
   "cell_type": "code",
   "execution_count": 66,
   "metadata": {},
   "outputs": [],
   "source": [
    "def convertDataToVisualize(y_preds,y_test,yearTest):\n",
    "    y_preds = np.array(y_preds).reshape(-1,1)\n",
    "    y_test = np.array(y_test).reshape(-1,1)\n",
    "    yearTest = np.array(yearTest).reshape(-1,1)\n",
    "    compareData = np.append(yearTest,y_test,axis=1)\n",
    "    compareData = np.append(compareData,y_preds,axis=1)\n",
    "    compareData = pd.DataFrame(compareData,columns = ['Year','Predict','Real'])\n",
    "    compareData = compareData.sort_values('Year')\n",
    "\n",
    "    return compareData"
   ]
  },
  {
   "cell_type": "code",
   "execution_count": 67,
   "metadata": {},
   "outputs": [],
   "source": [
    "y_preds_all = lR.predict(X2)\n",
    "compareData = convertDataToVisualize(y_preds_all,y,yearTest)"
   ]
  },
  {
   "attachments": {},
   "cell_type": "markdown",
   "metadata": {},
   "source": [
    "- Visualize data for model."
   ]
  },
  {
   "cell_type": "code",
   "execution_count": 68,
   "metadata": {},
   "outputs": [
    {
     "data": {
      "image/png": "[encoded data removed]",
      "text/plain": [
       "<Figure size 640x480 with 1 Axes>"
      ]
     },
     "metadata": {},
     "output_type": "display_data"
    }
   ],
   "source": [
    "plt.scatter(compareData.Year,compareData.Predict, color = 'blue', label = 'Predict model.');\n",
    "plt.scatter(compareData.Year,compareData.Real, color = 'red', label = 'Real data.');\n",
    "plt.title('Compare data')\n",
    "plt.xlabel(\"Year\");\n",
    "plt.ylabel(\"Population\");\n",
    "plt.legend(); "
   ]
  },
  {
   "attachments": {},
   "cell_type": "markdown",
   "metadata": {},
   "source": [
    "Polynomial regression."
   ]
  },
  {
   "attachments": {},
   "cell_type": "markdown",
   "metadata": {},
   "source": [
    "- Prepare data."
   ]
  },
  {
   "cell_type": "code",
   "execution_count": 69,
   "metadata": {},
   "outputs": [],
   "source": [
    "needPredict = listField[2]\n",
    "countryPredict = listCountry[1]\n",
    "dataField = listField[1]"
   ]
  },
  {
   "cell_type": "code",
   "execution_count": 70,
   "metadata": {},
   "outputs": [],
   "source": [
    "data1, result1 = getDataForPLLinear(countryPredict,needPredict,dataField)\n",
    "\n",
    "X2 = np.copy(data1)\n",
    "y = np.copy(result1)\n",
    "X2 = np.array(X2).reshape(-1,1)\n",
    "y = np.array(y).reshape(-1,1)"
   ]
  },
  {
   "attachments": {},
   "cell_type": "markdown",
   "metadata": {},
   "source": [
    "- Transform then split data to training and test set."
   ]
  },
  {
   "cell_type": "code",
   "execution_count": 71,
   "metadata": {},
   "outputs": [],
   "source": [
    "poly_reg = PolynomialFeatures(degree = 2) #Random degree\n",
    "X_poly = poly_reg.fit_transform(X2)\n",
    "X_poly_train, X_poly_test, y_train, y_test = train_test_split(X_poly, y, test_size = 0.3, random_state = 1)"
   ]
  },
  {
   "attachments": {},
   "cell_type": "markdown",
   "metadata": {},
   "source": [
    "- Fit data in model."
   ]
  },
  {
   "cell_type": "code",
   "execution_count": 72,
   "metadata": {},
   "outputs": [
    {
     "data": {
      "text/html": [
       "<style>#sk-container-id-2 {color: black;background-color: white;}#sk-container-id-2 pre{padding: 0;}#sk-container-id-2 div.sk-toggleable {background-color: white;}#sk-container-id-2 label.sk-toggleable__label {cursor: pointer;display: block;width: 100%;margin-bottom: 0;padding: 0.3em;box-sizing: border-box;text-align: center;}#sk-container-id-2 label.sk-toggleable__label-arrow:before {content: \"▸\";float: left;margin-right: 0.25em;color: #696969;}#sk-container-id-2 label.sk-toggleable__label-arrow:hover:before {color: black;}#sk-container-id-2 div.sk-estimator:hover label.sk-toggleable__label-arrow:before {color: black;}#sk-container-id-2 div.sk-toggleable__content {max-height: 0;max-width: 0;overflow: hidden;text-align: left;background-color: #f0f8ff;}#sk-container-id-2 div.sk-toggleable__content pre {margin: 0.2em;color: black;border-radius: 0.25em;background-color: #f0f8ff;}#sk-container-id-2 input.sk-toggleable__control:checked~div.sk-toggleable__content {max-height: 200px;max-width: 100%;overflow: auto;}#sk-container-id-2 input.sk-toggleable__control:checked~label.sk-toggleable__label-arrow:before {content: \"▾\";}#sk-container-id-2 div.sk-estimator input.sk-toggleable__control:checked~label.sk-toggleable__label {background-color: #d4ebff;}#sk-container-id-2 div.sk-label input.sk-toggleable__control:checked~label.sk-toggleable__label {background-color: #d4ebff;}#sk-container-id-2 input.sk-hidden--visually {border: 0;clip: rect(1px 1px 1px 1px);clip: rect(1px, 1px, 1px, 1px);height: 1px;margin: -1px;overflow: hidden;padding: 0;position: absolute;width: 1px;}#sk-container-id-2 div.sk-estimator {font-family: monospace;background-color: #f0f8ff;border: 1px dotted black;border-radius: 0.25em;box-sizing: border-box;margin-bottom: 0.5em;}#sk-container-id-2 div.sk-estimator:hover {background-color: #d4ebff;}#sk-container-id-2 div.sk-parallel-item::after {content: \"\";width: 100%;border-bottom: 1px solid gray;flex-grow: 1;}#sk-container-id-2 div.sk-label:hover label.sk-toggleable__label {background-color: #d4ebff;}#sk-container-id-2 div.sk-serial::before {content: \"\";position: absolute;border-left: 1px solid gray;box-sizing: border-box;top: 0;bottom: 0;left: 50%;z-index: 0;}#sk-container-id-2 div.sk-serial {display: flex;flex-direction: column;align-items: center;background-color: white;padding-right: 0.2em;padding-left: 0.2em;position: relative;}#sk-container-id-2 div.sk-item {position: relative;z-index: 1;}#sk-container-id-2 div.sk-parallel {display: flex;align-items: stretch;justify-content: center;background-color: white;position: relative;}#sk-container-id-2 div.sk-item::before, #sk-container-id-2 div.sk-parallel-item::before {content: \"\";position: absolute;border-left: 1px solid gray;box-sizing: border-box;top: 0;bottom: 0;left: 50%;z-index: -1;}#sk-container-id-2 div.sk-parallel-item {display: flex;flex-direction: column;z-index: 1;position: relative;background-color: white;}#sk-container-id-2 div.sk-parallel-item:first-child::after {align-self: flex-end;width: 50%;}#sk-container-id-2 div.sk-parallel-item:last-child::after {align-self: flex-start;width: 50%;}#sk-container-id-2 div.sk-parallel-item:only-child::after {width: 0;}#sk-container-id-2 div.sk-dashed-wrapped {border: 1px dashed gray;margin: 0 0.4em 0.5em 0.4em;box-sizing: border-box;padding-bottom: 0.4em;background-color: white;}#sk-container-id-2 div.sk-label label {font-family: monospace;font-weight: bold;display: inline-block;line-height: 1.2em;}#sk-container-id-2 div.sk-label-container {text-align: center;}#sk-container-id-2 div.sk-container {/* jupyter's `normalize.less` sets `[hidden] { display: none; }` but bootstrap.min.css set `[hidden] { display: none !important; }` so we also need the `!important` here to be able to override the default hidden behavior on the sphinx rendered scikit-learn.org. See: https://github.com/scikit-learn/scikit-learn/issues/21755 */display: inline-block !important;position: relative;}#sk-container-id-2 div.sk-text-repr-fallback {display: none;}</style><div id=\"sk-container-id-2\" class=\"sk-top-container\"><div class=\"sk-text-repr-fallback\"><pre>LinearRegression()</pre><b>In a Jupyter environment, please rerun this cell to show the HTML representation or trust the notebook. <br />On GitHub, the HTML representation is unable to render, please try loading this page with nbviewer.org.</b></div><div class=\"sk-container\" hidden><div class=\"sk-item\"><div class=\"sk-estimator sk-toggleable\"><input class=\"sk-toggleable__control sk-hidden--visually\" id=\"sk-estimator-id-2\" type=\"checkbox\" checked><label for=\"sk-estimator-id-2\" class=\"sk-toggleable__label sk-toggleable__label-arrow\">LinearRegression</label><div class=\"sk-toggleable__content\"><pre>LinearRegression()</pre></div></div></div></div></div>"
      ],
      "text/plain": [
       "LinearRegression()"
      ]
     },
     "execution_count": 72,
     "metadata": {},
     "output_type": "execute_result"
    }
   ],
   "source": [
    "lin_reg_2 = LinearRegression()\n",
    "lin_reg_2.fit(X_poly_train, y_train)"
   ]
  },
  {
   "attachments": {},
   "cell_type": "markdown",
   "metadata": {},
   "source": [
    "- Evaluate the model on the training set."
   ]
  },
  {
   "cell_type": "code",
   "execution_count": 73,
   "metadata": {},
   "outputs": [
    {
     "data": {
      "text/plain": [
       "0.9993302473276765"
      ]
     },
     "execution_count": 73,
     "metadata": {},
     "output_type": "execute_result"
    }
   ],
   "source": [
    "plScore = lin_reg_2.score(X_poly_train, y_train)\n",
    "plScore"
   ]
  },
  {
   "cell_type": "code",
   "execution_count": 74,
   "metadata": {},
   "outputs": [],
   "source": [
    "yPolyPreds = lin_reg_2.predict(X_poly_test)"
   ]
  },
  {
   "attachments": {},
   "cell_type": "markdown",
   "metadata": {},
   "source": [
    "- Evaluate the model on predicting."
   ]
  },
  {
   "cell_type": "code",
   "execution_count": 75,
   "metadata": {},
   "outputs": [
    {
     "data": {
      "text/plain": [
       "326712.285812183"
      ]
     },
     "execution_count": 75,
     "metadata": {},
     "output_type": "execute_result"
    }
   ],
   "source": [
    "plRMSE = np.sqrt(mean_squared_error(y_test,yPolyPreds))\n",
    "plRMSE"
   ]
  },
  {
   "attachments": {},
   "cell_type": "markdown",
   "metadata": {},
   "source": [
    "- Visualize data for model."
   ]
  },
  {
   "cell_type": "code",
   "execution_count": 76,
   "metadata": {},
   "outputs": [
    {
     "data": {
      "image/png": "[encoded data removed]",
      "text/plain": [
       "<Figure size 640x480 with 1 Axes>"
      ]
     },
     "metadata": {},
     "output_type": "display_data"
    }
   ],
   "source": [
    "yPolyPredsAll = lin_reg_2.predict(X_poly)\n",
    "plt.scatter(X2, y, color = 'red',label = 'Real data' )\n",
    "plt.plot(X2, yPolyPredsAll, color = 'blue', label = 'Predict model')\n",
    "plt.title('Compare data')\n",
    "plt.xlabel(dataField)\n",
    "plt.ylabel(needPredict)\n",
    "plt.legend()\n",
    "plt.show()"
   ]
  },
  {
   "attachments": {},
   "cell_type": "markdown",
   "metadata": {},
   "source": [
    "- <font color='Orange'>Evaluation on 2 machine learning models:</font>"
   ]
  },
  {
   "cell_type": "code",
   "execution_count": 77,
   "metadata": {},
   "outputs": [
    {
     "data": {
      "text/html": [
       "<div>\n",
       "<style scoped>\n",
       "    .dataframe tbody tr th:only-of-type {\n",
       "        vertical-align: middle;\n",
       "    }\n",
       "\n",
       "    .dataframe tbody tr th {\n",
       "        vertical-align: top;\n",
       "    }\n",
       "\n",
       "    .dataframe thead th {\n",
       "        text-align: right;\n",
       "    }\n",
       "</style>\n",
       "<table border=\"1\" class=\"dataframe\">\n",
       "  <thead>\n",
       "    <tr style=\"text-align: right;\">\n",
       "      <th></th>\n",
       "      <th>Multi linear regression</th>\n",
       "      <th>Polynomial regression</th>\n",
       "    </tr>\n",
       "  </thead>\n",
       "  <tbody>\n",
       "    <tr>\n",
       "      <th>Evaluate the model on training set</th>\n",
       "      <td>9.480977e-01</td>\n",
       "      <td>0.999330</td>\n",
       "    </tr>\n",
       "    <tr>\n",
       "      <th>Evaluate the model on test set (RMSE)</th>\n",
       "      <td>4.583419e+06</td>\n",
       "      <td>326712.285812</td>\n",
       "    </tr>\n",
       "  </tbody>\n",
       "</table>\n",
       "</div>"
      ],
      "text/plain": [
       "                                       Multi linear regression  \\\n",
       "Evaluate the model on training set                9.480977e-01   \n",
       "Evaluate the model on test set (RMSE)             4.583419e+06   \n",
       "\n",
       "                                       Polynomial regression  \n",
       "Evaluate the model on training set                  0.999330  \n",
       "Evaluate the model on test set (RMSE)          326712.285812  "
      ]
     },
     "execution_count": 77,
     "metadata": {},
     "output_type": "execute_result"
    }
   ],
   "source": [
    "listEva1 = np.array([lrScore,plScore],dtype=float)\n",
    "listEva2 = np.array([lrRMSE,plRMSE],dtype=float)\n",
    "\n",
    "compareModel = pd.DataFrame([listEva1,listEva2], columns = ['Multi linear regression','Polynomial regression'], \n",
    "index=['Evaluate the model on training set', \n",
    "'Evaluate the model on test set (RMSE)'])\n",
    "compareModel"
   ]
  },
  {
   "attachments": {},
   "cell_type": "markdown",
   "metadata": {},
   "source": [
    "We see that the results of multi linear regression for population prediction are not really good, the error is still quite large. Polynomial regresion gives better results, but the results are mainly based on the fields and degrees that we use to build the model. So to continue we will use model 2 but first we need to find the appropriate data field and order and then build the model."
   ]
  },
  {
   "attachments": {},
   "cell_type": "markdown",
   "metadata": {},
   "source": [
    "#### **<font color='blue'>Model 2.0</font>**. Build polynomial regression model."
   ]
  },
  {
   "attachments": {},
   "cell_type": "markdown",
   "metadata": {},
   "source": [
    "We try to find the field to predict by using cross validation (**<font color='green'>y = a_0 + a_i*x_i</font>**), then we use the best field to find the best degree by using the residual to evaluate the best field."
   ]
  },
  {
   "attachments": {},
   "cell_type": "markdown",
   "metadata": {},
   "source": [
    "- Caculate data to find R and thetahat vector."
   ]
  },
  {
   "cell_type": "code",
   "execution_count": 78,
   "metadata": {},
   "outputs": [],
   "source": [
    "def findRAndTheta(fieldData, fieldResult):\n",
    "    thetaHat = np.linalg.inv(fieldData.T@fieldData)@(fieldData.T@fieldResult)\n",
    "    rValue = np.linalg.norm(fieldData@thetaHat - fieldResult)\n",
    "    return rValue, thetaHat"
   ]
  },
  {
   "attachments": {},
   "cell_type": "markdown",
   "metadata": {},
   "source": [
    "- Find expand vector by degree."
   ]
  },
  {
   "cell_type": "code",
   "execution_count": 79,
   "metadata": {},
   "outputs": [],
   "source": [
    "def calValueForModel2(fieldData,fieldResult,powN):\n",
    "    \n",
    "    powN = int(powN)\n",
    "    size = len(fieldData)\n",
    "    A = np.array(np.copy(fieldData))\n",
    "    root = np.copy(A)\n",
    "    x0Index = np.ones(len(fieldData))\n",
    "\n",
    "    x0Index= x0Index.reshape(-1,1)\n",
    "    A = np.append(x0Index,A,axis=1)\n",
    "\n",
    "    for i in range(2,powN+1):\n",
    "        xJ = np.ones(size)\n",
    "        xJ = xJ.reshape(-1,1)\n",
    "        for j in range(i):\n",
    "            xJ = np.array(xJ*root)\n",
    "        A = np.append(A,xJ,axis=1)\n",
    "    \n",
    "    expandVector = np.array(np.copy(A))\n",
    "    B = np.array(np.copy(fieldResult))\n",
    "    rValue, thetaHat = findRAndTheta(A,B)\n",
    "\n",
    "    return rValue, thetaHat, expandVector"
   ]
  },
  {
   "attachments": {},
   "cell_type": "markdown",
   "metadata": {},
   "source": [
    "- Find the best column field for predict field"
   ]
  },
  {
   "cell_type": "code",
   "execution_count": 80,
   "metadata": {},
   "outputs": [],
   "source": [
    "def findTheBestField(dataFrame,countryName,listField,fieldResult):\n",
    "    \n",
    "    countryInfo = dataFrame.loc[(dataFrame.Country == countryName)]\n",
    "    result = np.array(countryInfo[fieldResult],dtype=float).reshape(-1,1)\n",
    "    scoreArray = []\n",
    "    choiceField = []\n",
    "    for i in listField:\n",
    "        if i != 'Country' and i != fieldResult:\n",
    "            data = np.array(countryInfo[i],dtype=float).reshape(-1,1)\n",
    "            R,thetaHat,expandVector = calValueForModel2(data,result,1)\n",
    "            choiceField.append(i)\n",
    "            lin_reg_2 = LinearRegression()\n",
    "            expandVectorTrain, expandVectorTest, result_train, result_test = train_test_split(expandVector, result, test_size = 0.3, random_state = 1)\n",
    "            lin_reg_2.fit(expandVectorTrain, result_train)\n",
    "            score = lin_reg_2.score(expandVectorTrain, result_train)\n",
    "            poly_reg_rmse = np.sqrt(mean_squared_error(result_test, lin_reg_2.predict(expandVectorTest)))\n",
    "            rs = float((poly_reg_rmse + R + score)/3)\n",
    "            scoreArray.append(rs)\n",
    "\n",
    "    scoreArray = np.array(scoreArray)\n",
    "    minValue = np.amin(scoreArray)\n",
    "    minPos = np.where(scoreArray == minValue)\n",
    "    minPos = np.amin(minPos)\n",
    "\n",
    "    return countryInfo, minValue, fieldResult, choiceField[minPos], result\n",
    "        "
   ]
  },
  {
   "attachments": {},
   "cell_type": "markdown",
   "metadata": {},
   "source": [
    "- Find the best degree for the best field."
   ]
  },
  {
   "cell_type": "code",
   "execution_count": 81,
   "metadata": {},
   "outputs": [],
   "source": [
    "def findParameter(dataFrame,countryName,listField,fieldResult):\n",
    "    countryInfo, minR, fieldResult, bestField, result = findTheBestField(dataFrame,countryName,listField,fieldResult)\n",
    "    data = np.array(countryInfo[bestField],dtype=float).reshape(-1,1)\n",
    "    maxSize = 10\n",
    "    scoreArray = []\n",
    "    thetaArray = []\n",
    "    powArray = []\n",
    "    trainScore = []\n",
    "    listExpandVector = []\n",
    "\n",
    "    for i in range(1,maxSize):\n",
    "        rValue, thetaHat, expandVector = calValueForModel2(data,result,i)\n",
    "        thetaArray.append(thetaHat)\n",
    "        powArray.append(i)\n",
    "        listExpandVector.append(expandVector)\n",
    "        lin_reg_2 = LinearRegression()\n",
    "        y = np.array(np.copy(result))\n",
    "        expandVectorTrain, expandVectorTest, y_train, y_test = train_test_split(expandVector, y, test_size = 0.3, random_state = 1)\n",
    "        lin_reg_2.fit(expandVectorTrain, y_train)\n",
    "        score = lin_reg_2.score(expandVectorTrain, y_train)\n",
    "        poly_reg_rmse = np.sqrt(mean_squared_error(y_test, lin_reg_2.predict(expandVectorTest)))\n",
    "        rs = float((poly_reg_rmse + rValue + score)/3)\n",
    "        trainScore.append(score)\n",
    "        scoreArray.append(rs)\n",
    "           \n",
    "    scoreArray = np.array(scoreArray)\n",
    "    minValue = np.amin(scoreArray)\n",
    "    minPos = np.where(scoreArray == minValue)\n",
    "    minPos = np.amin(minPos)\n",
    "\n",
    "    return bestField, minValue, trainScore[minPos], thetaArray[minPos], powArray[minPos], listExpandVector[minPos], data, result"
   ]
  },
  {
   "attachments": {},
   "cell_type": "markdown",
   "metadata": {},
   "source": [
    "- Build polynomial regression model."
   ]
  },
  {
   "cell_type": "code",
   "execution_count": 82,
   "metadata": {},
   "outputs": [],
   "source": [
    "def polyResgressionBuilt(data,result,expandVector):\n",
    "    \n",
    "    X0 = np.copy(data)\n",
    "    X0 = np.array(X0).reshape(-1,1)\n",
    "    X = np.array(np.copy(expandVector))\n",
    "    y = np.copy(result)\n",
    "    y = np.array(y).reshape(-1,1)\n",
    "    lin_reg_2 = LinearRegression()\n",
    "    X_poly_train, X_poly_test, y_train, y_test = train_test_split(X, y, test_size = 0.3, random_state = 1)\n",
    "    lin_reg_2.fit(X_poly_train, y_train)\n",
    "    Evaluate = lin_reg_2.score(X_poly_train, y_train)\n",
    "    \n",
    "    return X0, y, lin_reg_2.predict(X), Evaluate\n",
    "\n",
    "    "
   ]
  },
  {
   "attachments": {},
   "cell_type": "markdown",
   "metadata": {},
   "source": [
    "- Visualize data for model."
   ]
  },
  {
   "cell_type": "code",
   "execution_count": 83,
   "metadata": {},
   "outputs": [],
   "source": [
    "def visualizeDataForPoly(X,y,yPreds,fieldPredict,fieldWantToPredict):\n",
    "        plt.scatter(X, y, color = 'red', label = 'Real data' )\n",
    "        plt.plot(X, yPreds, color = 'blue', label = 'Predict model')\n",
    "        plt.title('Compare data')\n",
    "        plt.xlabel(fieldPredict)\n",
    "        plt.ylabel(fieldWantToPredict)\n",
    "        plt.legend()\n",
    "        plt.show()"
   ]
  },
  {
   "attachments": {},
   "cell_type": "markdown",
   "metadata": {},
   "source": [
    "- Execute"
   ]
  },
  {
   "attachments": {},
   "cell_type": "markdown",
   "metadata": {},
   "source": [
    "Prepare data."
   ]
  },
  {
   "cell_type": "code",
   "execution_count": 84,
   "metadata": {},
   "outputs": [
    {
     "name": "stdout",
     "output_type": "stream",
     "text": [
      "['bermuda', 'canada', 'greenland', 'hoa-ky', 'saint-pierre-va-miquelon', 'a-rap-xe-ut', 'afghanistan', 'an-do', 'armenia', 'azerbaijan', 'bahrain', 'bangladesh', 'bhutan', 'brunei', 'cac-tieu-vuong-quoc-a-rap-thong-nhat', 'campuchia', 'cong-hoa-sip', 'dai-loan', 'dong-timo', 'georgia', 'han-quoc', 'hong-kong', 'indonesia', 'iran', 'iraq', 'israel', 'jordan', 'kazakhstan', 'kuwait', 'kyrgyzstan', 'lao', 'lebanon', 'ma-cao', 'malaysia', 'maldives', 'mong-co', 'myanmar', 'nepal', 'nhat-ban', 'oman', 'pakistan', 'palestine', 'philippines', 'qatar', 'singapore', 'sri-lanka', 'syria', 'tajikistan', 'thai-lan', 'tho-nhi-ky', 'trieu-tien', 'trung-quoc', 'turkmenistan', 'uzbekistan', 'viet-nam', 'yemen']\n"
     ]
    }
   ],
   "source": [
    "print(listCountry)"
   ]
  },
  {
   "cell_type": "code",
   "execution_count": 85,
   "metadata": {},
   "outputs": [
    {
     "data": {
      "text/plain": [
       "['Country', 'Year', 'Population', 'Change', 'Migrate', 'Urban_resident']"
      ]
     },
     "execution_count": 85,
     "metadata": {},
     "output_type": "execute_result"
    }
   ],
   "source": [
    "listField"
   ]
  },
  {
   "attachments": {},
   "cell_type": "markdown",
   "metadata": {},
   "source": [
    "Choose field and country that you want to predict."
   ]
  },
  {
   "cell_type": "code",
   "execution_count": 86,
   "metadata": {},
   "outputs": [
    {
     "name": "stdout",
     "output_type": "stream",
     "text": [
      "Population in canada\n"
     ]
    }
   ],
   "source": [
    "countryWantToPredict = listCountry[1]\n",
    "fieldWantToPredict = listField[2]\n",
    "print(fieldWantToPredict + ' in ' + countryWantToPredict)"
   ]
  },
  {
   "attachments": {},
   "cell_type": "markdown",
   "metadata": {},
   "source": [
    "Get the best field and parameter for predicting."
   ]
  },
  {
   "cell_type": "code",
   "execution_count": 87,
   "metadata": {},
   "outputs": [],
   "source": [
    "bestFieldForPreds, minAveScore, trainScore, theta, bestDegree, expandVector, data, result = findParameter(df,countryWantToPredict,\n",
    "listField,fieldWantToPredict)"
   ]
  },
  {
   "attachments": {},
   "cell_type": "markdown",
   "metadata": {},
   "source": [
    "Get result after model processing."
   ]
  },
  {
   "cell_type": "code",
   "execution_count": 88,
   "metadata": {},
   "outputs": [],
   "source": [
    "X, y1, y1Preds, evaluation = polyResgressionBuilt(data,result,expandVector)"
   ]
  },
  {
   "attachments": {},
   "cell_type": "markdown",
   "metadata": {},
   "source": [
    "- Details of model."
   ]
  },
  {
   "cell_type": "code",
   "execution_count": 89,
   "metadata": {},
   "outputs": [
    {
     "data": {
      "text/html": [
       "<div>\n",
       "<style scoped>\n",
       "    .dataframe tbody tr th:only-of-type {\n",
       "        vertical-align: middle;\n",
       "    }\n",
       "\n",
       "    .dataframe tbody tr th {\n",
       "        vertical-align: top;\n",
       "    }\n",
       "\n",
       "    .dataframe thead th {\n",
       "        text-align: right;\n",
       "    }\n",
       "</style>\n",
       "<table border=\"1\" class=\"dataframe\">\n",
       "  <thead>\n",
       "    <tr style=\"text-align: right;\">\n",
       "      <th></th>\n",
       "      <th>Result</th>\n",
       "    </tr>\n",
       "  </thead>\n",
       "  <tbody>\n",
       "    <tr>\n",
       "      <th>Field want to predict</th>\n",
       "      <td>Population</td>\n",
       "    </tr>\n",
       "    <tr>\n",
       "      <th>Suitable field</th>\n",
       "      <td>Urban_resident</td>\n",
       "    </tr>\n",
       "    <tr>\n",
       "      <th>Degree</th>\n",
       "      <td>3</td>\n",
       "    </tr>\n",
       "    <tr>\n",
       "      <th>Evaluate the model on training set</th>\n",
       "      <td>0.999415</td>\n",
       "    </tr>\n",
       "    <tr>\n",
       "      <th>Evaluate the model on predicting ave (RMSE,R,Score)</th>\n",
       "      <td>340153.511817</td>\n",
       "    </tr>\n",
       "  </tbody>\n",
       "</table>\n",
       "</div>"
      ],
      "text/plain": [
       "                                                            Result\n",
       "Field want to predict                                   Population\n",
       "Suitable field                                      Urban_resident\n",
       "Degree                                                           3\n",
       "Evaluate the model on training set                        0.999415\n",
       "Evaluate the model on predicting ave (RMSE,R,Sc...   340153.511817"
      ]
     },
     "execution_count": 89,
     "metadata": {},
     "output_type": "execute_result"
    }
   ],
   "source": [
    "evaluationModel = pd.DataFrame([fieldWantToPredict,bestFieldForPreds, bestDegree, trainScore, minAveScore], columns = ['Result'], \n",
    "index=['Field want to predict', 'Suitable field', 'Degree', 'Evaluate the model on training set', \n",
    "'Evaluate the model on predicting ave (RMSE,R,Score)'])\n",
    "evaluationModel"
   ]
  },
  {
   "attachments": {},
   "cell_type": "markdown",
   "metadata": {},
   "source": [
    "- Visualization result."
   ]
  },
  {
   "cell_type": "code",
   "execution_count": 90,
   "metadata": {},
   "outputs": [
    {
     "data": {
      "image/png": "[encoded data removed]",
      "text/plain": [
       "<Figure size 640x480 with 1 Axes>"
      ]
     },
     "metadata": {},
     "output_type": "display_data"
    }
   ],
   "source": [
    "visualizeDataForPoly(X,y1,y1Preds,bestFieldForPreds,fieldWantToPredict)"
   ]
  },
  {
   "attachments": {},
   "cell_type": "markdown",
   "metadata": {},
   "source": [
    "## Answer the question\n"
   ]
  },
  {
   "attachments": {},
   "cell_type": "markdown",
   "metadata": {},
   "source": [
    "Overload the predict function for clearly output"
   ]
  },
  {
   "cell_type": "code",
   "execution_count": 91,
   "metadata": {},
   "outputs": [],
   "source": [
    "def predictField(country,field,dataFrame,year,powN):\n",
    "    theta, R = buildModelField(country,dataFrame,field,powN)\n",
    "    large = round(caculateFieldForYear(theta,year))\n",
    "    return large"
   ]
  },
  {
   "attachments": {},
   "cell_type": "markdown",
   "metadata": {},
   "source": [
    "### 1/ Predict population of country in area to 2025"
   ]
  },
  {
   "cell_type": "code",
   "execution_count": 92,
   "metadata": {},
   "outputs": [
    {
     "data": {
      "text/plain": [
       "['Country', 'Year', 'Population', 'Change', 'Migrate', 'Urban_resident']"
      ]
     },
     "execution_count": 92,
     "metadata": {},
     "output_type": "execute_result"
    }
   ],
   "source": [
    "listField"
   ]
  },
  {
   "cell_type": "code",
   "execution_count": 93,
   "metadata": {},
   "outputs": [
    {
     "data": {
      "text/plain": [
       "'canada'"
      ]
     },
     "execution_count": 93,
     "metadata": {},
     "output_type": "execute_result"
    }
   ],
   "source": [
    "# predictYear = 2025\n",
    "# predictField(listCountry[1],listField[2],df,predictYear,powFieldValue)\n",
    "listCountry[1]\n"
   ]
  },
  {
   "cell_type": "markdown",
   "metadata": {},
   "source": [
    "### Let see how the population of world change from 1995 to 2020"
   ]
  },
  {
   "cell_type": "code",
   "execution_count": 94,
   "metadata": {},
   "outputs": [
    {
     "data": {
      "text/html": [
       "<div>\n",
       "<style scoped>\n",
       "    .dataframe tbody tr th:only-of-type {\n",
       "        vertical-align: middle;\n",
       "    }\n",
       "\n",
       "    .dataframe tbody tr th {\n",
       "        vertical-align: top;\n",
       "    }\n",
       "\n",
       "    .dataframe thead th {\n",
       "        text-align: right;\n",
       "    }\n",
       "</style>\n",
       "<table border=\"1\" class=\"dataframe\">\n",
       "  <thead>\n",
       "    <tr style=\"text-align: right;\">\n",
       "      <th></th>\n",
       "      <th>Year</th>\n",
       "      <th>Population</th>\n",
       "      <th>Change</th>\n",
       "      <th>Migrate</th>\n",
       "      <th>Urban_resident</th>\n",
       "      <th>Country</th>\n",
       "    </tr>\n",
       "  </thead>\n",
       "  <tbody>\n",
       "    <tr>\n",
       "      <th>0</th>\n",
       "      <td>1955</td>\n",
       "      <td>1736472303</td>\n",
       "      <td>31792132</td>\n",
       "      <td>484295</td>\n",
       "      <td>424391960</td>\n",
       "      <td>Area</td>\n",
       "    </tr>\n",
       "    <tr>\n",
       "      <th>1</th>\n",
       "      <td>1960</td>\n",
       "      <td>1909690216</td>\n",
       "      <td>34643581</td>\n",
       "      <td>870627</td>\n",
       "      <td>503369903</td>\n",
       "      <td>Area</td>\n",
       "    </tr>\n",
       "    <tr>\n",
       "      <th>2</th>\n",
       "      <td>1965</td>\n",
       "      <td>2114428465</td>\n",
       "      <td>40947649</td>\n",
       "      <td>403884</td>\n",
       "      <td>591235624</td>\n",
       "      <td>Area</td>\n",
       "    </tr>\n",
       "    <tr>\n",
       "      <th>3</th>\n",
       "      <td>1970</td>\n",
       "      <td>2373472188</td>\n",
       "      <td>51808745</td>\n",
       "      <td>612899</td>\n",
       "      <td>677671110</td>\n",
       "      <td>Area</td>\n",
       "    </tr>\n",
       "    <tr>\n",
       "      <th>4</th>\n",
       "      <td>1975</td>\n",
       "      <td>2643422948</td>\n",
       "      <td>53990150</td>\n",
       "      <td>497739</td>\n",
       "      <td>777787043</td>\n",
       "      <td>Area</td>\n",
       "    </tr>\n",
       "    <tr>\n",
       "      <th>5</th>\n",
       "      <td>1980</td>\n",
       "      <td>2903585423</td>\n",
       "      <td>52032497</td>\n",
       "      <td>600682</td>\n",
       "      <td>905007716</td>\n",
       "      <td>Area</td>\n",
       "    </tr>\n",
       "    <tr>\n",
       "      <th>6</th>\n",
       "      <td>1985</td>\n",
       "      <td>3187536627</td>\n",
       "      <td>56790238</td>\n",
       "      <td>718858</td>\n",
       "      <td>1067380016</td>\n",
       "      <td>Area</td>\n",
       "    </tr>\n",
       "    <tr>\n",
       "      <th>7</th>\n",
       "      <td>1990</td>\n",
       "      <td>3505884221</td>\n",
       "      <td>63669521</td>\n",
       "      <td>559064</td>\n",
       "      <td>1251042572</td>\n",
       "      <td>Area</td>\n",
       "    </tr>\n",
       "    <tr>\n",
       "      <th>8</th>\n",
       "      <td>1995</td>\n",
       "      <td>3787540525</td>\n",
       "      <td>56331264</td>\n",
       "      <td>69553</td>\n",
       "      <td>1443601155</td>\n",
       "      <td>Area</td>\n",
       "    </tr>\n",
       "    <tr>\n",
       "      <th>9</th>\n",
       "      <td>2000</td>\n",
       "      <td>4053690154</td>\n",
       "      <td>53229923</td>\n",
       "      <td>734446</td>\n",
       "      <td>1647136231</td>\n",
       "      <td>Area</td>\n",
       "    </tr>\n",
       "    <tr>\n",
       "      <th>10</th>\n",
       "      <td>2005</td>\n",
       "      <td>4305273653</td>\n",
       "      <td>50316700</td>\n",
       "      <td>-367965</td>\n",
       "      <td>1893078975</td>\n",
       "      <td>Area</td>\n",
       "    </tr>\n",
       "    <tr>\n",
       "      <th>11</th>\n",
       "      <td>2010</td>\n",
       "      <td>4552881112</td>\n",
       "      <td>49521492</td>\n",
       "      <td>-467579</td>\n",
       "      <td>2154019846</td>\n",
       "      <td>Area</td>\n",
       "    </tr>\n",
       "    <tr>\n",
       "      <th>12</th>\n",
       "      <td>2015</td>\n",
       "      <td>4790506406</td>\n",
       "      <td>47525060</td>\n",
       "      <td>-148933</td>\n",
       "      <td>2410329911</td>\n",
       "      <td>Area</td>\n",
       "    </tr>\n",
       "    <tr>\n",
       "      <th>13</th>\n",
       "      <td>2016</td>\n",
       "      <td>4836132500</td>\n",
       "      <td>45626094</td>\n",
       "      <td>-530985</td>\n",
       "      <td>2462087636</td>\n",
       "      <td>Area</td>\n",
       "    </tr>\n",
       "    <tr>\n",
       "      <th>14</th>\n",
       "      <td>2017</td>\n",
       "      <td>4880982295</td>\n",
       "      <td>44849795</td>\n",
       "      <td>-530991</td>\n",
       "      <td>2513737276</td>\n",
       "      <td>Area</td>\n",
       "    </tr>\n",
       "    <tr>\n",
       "      <th>15</th>\n",
       "      <td>2018</td>\n",
       "      <td>4924963104</td>\n",
       "      <td>43980809</td>\n",
       "      <td>-530998</td>\n",
       "      <td>2564965533</td>\n",
       "      <td>Area</td>\n",
       "    </tr>\n",
       "    <tr>\n",
       "      <th>16</th>\n",
       "      <td>2019</td>\n",
       "      <td>4967972162</td>\n",
       "      <td>43009058</td>\n",
       "      <td>-531003</td>\n",
       "      <td>2615747741</td>\n",
       "      <td>Area</td>\n",
       "    </tr>\n",
       "    <tr>\n",
       "      <th>17</th>\n",
       "      <td>2020</td>\n",
       "      <td>5009924422</td>\n",
       "      <td>41952174</td>\n",
       "      <td>-531007</td>\n",
       "      <td>2666055368</td>\n",
       "      <td>Area</td>\n",
       "    </tr>\n",
       "  </tbody>\n",
       "</table>\n",
       "</div>"
      ],
      "text/plain": [
       "    Year  Population    Change  Migrate  Urban_resident Country\n",
       "0   1955  1736472303  31792132   484295       424391960    Area\n",
       "1   1960  1909690216  34643581   870627       503369903    Area\n",
       "2   1965  2114428465  40947649   403884       591235624    Area\n",
       "3   1970  2373472188  51808745   612899       677671110    Area\n",
       "4   1975  2643422948  53990150   497739       777787043    Area\n",
       "5   1980  2903585423  52032497   600682       905007716    Area\n",
       "6   1985  3187536627  56790238   718858      1067380016    Area\n",
       "7   1990  3505884221  63669521   559064      1251042572    Area\n",
       "8   1995  3787540525  56331264    69553      1443601155    Area\n",
       "9   2000  4053690154  53229923   734446      1647136231    Area\n",
       "10  2005  4305273653  50316700  -367965      1893078975    Area\n",
       "11  2010  4552881112  49521492  -467579      2154019846    Area\n",
       "12  2015  4790506406  47525060  -148933      2410329911    Area\n",
       "13  2016  4836132500  45626094  -530985      2462087636    Area\n",
       "14  2017  4880982295  44849795  -530991      2513737276    Area\n",
       "15  2018  4924963104  43980809  -530998      2564965533    Area\n",
       "16  2019  4967972162  43009058  -531003      2615747741    Area\n",
       "17  2020  5009924422  41952174  -531007      2666055368    Area"
      ]
     },
     "execution_count": 94,
     "metadata": {},
     "output_type": "execute_result"
    }
   ],
   "source": [
    "popInfo = df.groupby('Year').sum().reset_index()\n",
    "popInfo['Country']='Area'\n",
    "# popInfo[['Year','Population']]\n",
    "popInfo"
   ]
  },
  {
   "attachments": {},
   "cell_type": "markdown",
   "metadata": {},
   "source": [
    "### Start to predict all around the Area\n",
    "#### 1. Predict population until 2025"
   ]
  },
  {
   "attachments": {},
   "cell_type": "markdown",
   "metadata": {},
   "source": [
    "### The question is how the population of this area in 2030\n",
    "- This question can help user to see the population of this area so that user can realizing the area's population growth rate so that we can have some population policies."
   ]
  },
  {
   "cell_type": "code",
   "execution_count": 95,
   "metadata": {},
   "outputs": [
    {
     "name": "stdout",
     "output_type": "stream",
     "text": [
      "Predict Population for Area country.\n",
      "The minimum value of R is: 46734961.72894838, and N (maximum power of x) is: 2.\n",
      "The above information means that the Population deviation when using the X^(2) model to predict is from real data.\n"
     ]
    }
   ],
   "source": [
    "powFieldValue, minRFieldValue = findTheBestNForMinRField('Area',listField[5],popInfo)\n",
    "printInfoField('Area',listField[2],powFieldValue, minRFieldValue)"
   ]
  },
  {
   "cell_type": "code",
   "execution_count": 96,
   "metadata": {},
   "outputs": [
    {
     "data": {
      "image/png": "[encoded data removed]",
      "text/plain": [
       "<Figure size 640x480 with 1 Axes>"
      ]
     },
     "metadata": {},
     "output_type": "display_data"
    }
   ],
   "source": [
    "compareFieldWithRealData('Area',listField[2],popInfo,powFieldValue)"
   ]
  },
  {
   "cell_type": "markdown",
   "metadata": {},
   "source": [
    "### Predict result"
   ]
  },
  {
   "cell_type": "code",
   "execution_count": 97,
   "metadata": {},
   "outputs": [
    {
     "data": {
      "text/html": [
       "<div>\n",
       "<style scoped>\n",
       "    .dataframe tbody tr th:only-of-type {\n",
       "        vertical-align: middle;\n",
       "    }\n",
       "\n",
       "    .dataframe tbody tr th {\n",
       "        vertical-align: top;\n",
       "    }\n",
       "\n",
       "    .dataframe thead th {\n",
       "        text-align: right;\n",
       "    }\n",
       "</style>\n",
       "<table border=\"1\" class=\"dataframe\">\n",
       "  <thead>\n",
       "    <tr style=\"text-align: right;\">\n",
       "      <th></th>\n",
       "      <th>Population predict</th>\n",
       "    </tr>\n",
       "  </thead>\n",
       "  <tbody>\n",
       "    <tr>\n",
       "      <th>2021</th>\n",
       "      <td>5099988780</td>\n",
       "    </tr>\n",
       "    <tr>\n",
       "      <th>2022</th>\n",
       "      <td>5152554637</td>\n",
       "    </tr>\n",
       "    <tr>\n",
       "      <th>2023</th>\n",
       "      <td>5205127230</td>\n",
       "    </tr>\n",
       "    <tr>\n",
       "      <th>2024</th>\n",
       "      <td>5257706557</td>\n",
       "    </tr>\n",
       "    <tr>\n",
       "      <th>2025</th>\n",
       "      <td>5310292620</td>\n",
       "    </tr>\n",
       "    <tr>\n",
       "      <th>2026</th>\n",
       "      <td>5362885418</td>\n",
       "    </tr>\n",
       "    <tr>\n",
       "      <th>2027</th>\n",
       "      <td>5415484951</td>\n",
       "    </tr>\n",
       "    <tr>\n",
       "      <th>2028</th>\n",
       "      <td>5468091218</td>\n",
       "    </tr>\n",
       "    <tr>\n",
       "      <th>2029</th>\n",
       "      <td>5520704221</td>\n",
       "    </tr>\n",
       "    <tr>\n",
       "      <th>2030</th>\n",
       "      <td>5573323959</td>\n",
       "    </tr>\n",
       "  </tbody>\n",
       "</table>\n",
       "</div>"
      ],
      "text/plain": [
       "      Population predict\n",
       "2021          5099988780\n",
       "2022          5152554637\n",
       "2023          5205127230\n",
       "2024          5257706557\n",
       "2025          5310292620\n",
       "2026          5362885418\n",
       "2027          5415484951\n",
       "2028          5468091218\n",
       "2029          5520704221\n",
       "2030          5573323959"
      ]
     },
     "execution_count": 97,
     "metadata": {},
     "output_type": "execute_result"
    },
    {
     "data": {
      "image/png": "[encoded data removed]",
      "text/plain": [
       "<Figure size 640x480 with 1 Axes>"
      ]
     },
     "metadata": {},
     "output_type": "display_data"
    }
   ],
   "source": [
    "#Get population predict and visualized\n",
    "predictPop={}\n",
    "for i in range (2021,2031):\n",
    "    predictYear = i\n",
    "    predictPop.setdefault(i,predictField('Area',listField[2],popInfo,predictYear,powFieldValue))\n",
    "\n",
    "# Create data frame for the predict data \n",
    "predictPop=pd.DataFrame.from_dict(predictPop,orient='index',columns=['Population predict'])\n",
    "# Visualize\n",
    "predictPop.plot()\n",
    "# Show dataframe\n",
    "predictPop.reset_index().rename({'index':'Year'},inplace=True)\n",
    "predictPop\n"
   ]
  },
  {
   "attachments": {},
   "cell_type": "markdown",
   "metadata": {},
   "source": [
    "### 2. Predict each country in next 5 years (2025)"
   ]
  },
  {
   "attachments": {},
   "cell_type": "markdown",
   "metadata": {},
   "source": [
    "- This question will provide user the predict of population for each country in year 2025.\n",
    "- User can use this data to see how the population of each country changing in next 5 year to know which country will have more change for economic development."
   ]
  },
  {
   "cell_type": "code",
   "execution_count": 98,
   "metadata": {},
   "outputs": [
    {
     "data": {
      "text/html": [
       "<div>\n",
       "<style scoped>\n",
       "    .dataframe tbody tr th:only-of-type {\n",
       "        vertical-align: middle;\n",
       "    }\n",
       "\n",
       "    .dataframe tbody tr th {\n",
       "        vertical-align: top;\n",
       "    }\n",
       "\n",
       "    .dataframe thead th {\n",
       "        text-align: right;\n",
       "    }\n",
       "</style>\n",
       "<table border=\"1\" class=\"dataframe\">\n",
       "  <thead>\n",
       "    <tr style=\"text-align: right;\">\n",
       "      <th></th>\n",
       "      <th>Population</th>\n",
       "    </tr>\n",
       "  </thead>\n",
       "  <tbody>\n",
       "    <tr>\n",
       "      <th>bermuda</th>\n",
       "      <td>61079</td>\n",
       "    </tr>\n",
       "    <tr>\n",
       "      <th>canada</th>\n",
       "      <td>39368708</td>\n",
       "    </tr>\n",
       "    <tr>\n",
       "      <th>greenland</th>\n",
       "      <td>53151</td>\n",
       "    </tr>\n",
       "    <tr>\n",
       "      <th>hoa-ky</th>\n",
       "      <td>343550180</td>\n",
       "    </tr>\n",
       "    <tr>\n",
       "      <th>saint-pierre-va-miquelon</th>\n",
       "      <td>5534</td>\n",
       "    </tr>\n",
       "    <tr>\n",
       "      <th>a-rap-xe-ut</th>\n",
       "      <td>39604434</td>\n",
       "    </tr>\n",
       "    <tr>\n",
       "      <th>afghanistan</th>\n",
       "      <td>44679874</td>\n",
       "    </tr>\n",
       "    <tr>\n",
       "      <th>an-do</th>\n",
       "      <td>1456719081</td>\n",
       "    </tr>\n",
       "    <tr>\n",
       "      <th>armenia</th>\n",
       "      <td>2556170</td>\n",
       "    </tr>\n",
       "    <tr>\n",
       "      <th>azerbaijan</th>\n",
       "      <td>10539188</td>\n",
       "    </tr>\n",
       "    <tr>\n",
       "      <th>bahrain</th>\n",
       "      <td>1932627</td>\n",
       "    </tr>\n",
       "    <tr>\n",
       "      <th>bangladesh</th>\n",
       "      <td>178716532</td>\n",
       "    </tr>\n",
       "    <tr>\n",
       "      <th>bhutan</th>\n",
       "      <td>819667</td>\n",
       "    </tr>\n",
       "    <tr>\n",
       "      <th>brunei</th>\n",
       "      <td>476090</td>\n",
       "    </tr>\n",
       "    <tr>\n",
       "      <th>cac-tieu-vuong-quoc-a-rap-thong-nhat</th>\n",
       "      <td>12568971</td>\n",
       "    </tr>\n",
       "    <tr>\n",
       "      <th>campuchia</th>\n",
       "      <td>18598649</td>\n",
       "    </tr>\n",
       "    <tr>\n",
       "      <th>cong-hoa-sip</th>\n",
       "      <td>1328129</td>\n",
       "    </tr>\n",
       "    <tr>\n",
       "      <th>dai-loan</th>\n",
       "      <td>23756794</td>\n",
       "    </tr>\n",
       "    <tr>\n",
       "      <th>dong-timo</th>\n",
       "      <td>1433681</td>\n",
       "    </tr>\n",
       "    <tr>\n",
       "      <th>georgia</th>\n",
       "      <td>3340919</td>\n",
       "    </tr>\n",
       "    <tr>\n",
       "      <th>han-quoc</th>\n",
       "      <td>51910887</td>\n",
       "    </tr>\n",
       "    <tr>\n",
       "      <th>hong-kong</th>\n",
       "      <td>7688539</td>\n",
       "    </tr>\n",
       "    <tr>\n",
       "      <th>indonesia</th>\n",
       "      <td>290693601</td>\n",
       "    </tr>\n",
       "    <tr>\n",
       "      <th>iran</th>\n",
       "      <td>89767510</td>\n",
       "    </tr>\n",
       "    <tr>\n",
       "      <th>iraq</th>\n",
       "      <td>44894608</td>\n",
       "    </tr>\n",
       "    <tr>\n",
       "      <th>israel</th>\n",
       "      <td>8956571</td>\n",
       "    </tr>\n",
       "    <tr>\n",
       "      <th>jordan</th>\n",
       "      <td>11935404</td>\n",
       "    </tr>\n",
       "    <tr>\n",
       "      <th>kazakhstan</th>\n",
       "      <td>17992930</td>\n",
       "    </tr>\n",
       "    <tr>\n",
       "      <th>kuwait</th>\n",
       "      <td>4775312</td>\n",
       "    </tr>\n",
       "    <tr>\n",
       "      <th>kyrgyzstan</th>\n",
       "      <td>6759130</td>\n",
       "    </tr>\n",
       "    <tr>\n",
       "      <th>lao</th>\n",
       "      <td>7922233</td>\n",
       "    </tr>\n",
       "    <tr>\n",
       "      <th>lebanon</th>\n",
       "      <td>7995586</td>\n",
       "    </tr>\n",
       "    <tr>\n",
       "      <th>ma-cao</th>\n",
       "      <td>731977</td>\n",
       "    </tr>\n",
       "    <tr>\n",
       "      <th>malaysia</th>\n",
       "      <td>35752993</td>\n",
       "    </tr>\n",
       "    <tr>\n",
       "      <th>maldives</th>\n",
       "      <td>602385</td>\n",
       "    </tr>\n",
       "    <tr>\n",
       "      <th>mong-co</th>\n",
       "      <td>3433054</td>\n",
       "    </tr>\n",
       "    <tr>\n",
       "      <th>myanmar</th>\n",
       "      <td>56641154</td>\n",
       "    </tr>\n",
       "    <tr>\n",
       "      <th>nepal</th>\n",
       "      <td>30979230</td>\n",
       "    </tr>\n",
       "    <tr>\n",
       "      <th>nhat-ban</th>\n",
       "      <td>124481585</td>\n",
       "    </tr>\n",
       "    <tr>\n",
       "      <th>oman</th>\n",
       "      <td>5760103</td>\n",
       "    </tr>\n",
       "    <tr>\n",
       "      <th>pakistan</th>\n",
       "      <td>246388435</td>\n",
       "    </tr>\n",
       "    <tr>\n",
       "      <th>palestine</th>\n",
       "      <td>5814624</td>\n",
       "    </tr>\n",
       "    <tr>\n",
       "      <th>philippines</th>\n",
       "      <td>120104823</td>\n",
       "    </tr>\n",
       "    <tr>\n",
       "      <th>qatar</th>\n",
       "      <td>3597470</td>\n",
       "    </tr>\n",
       "    <tr>\n",
       "      <th>singapore</th>\n",
       "      <td>6613725</td>\n",
       "    </tr>\n",
       "    <tr>\n",
       "      <th>sri-lanka</th>\n",
       "      <td>23010224</td>\n",
       "    </tr>\n",
       "    <tr>\n",
       "      <th>syria</th>\n",
       "      <td>19057557</td>\n",
       "    </tr>\n",
       "    <tr>\n",
       "      <th>tajikistan</th>\n",
       "      <td>10234734</td>\n",
       "    </tr>\n",
       "    <tr>\n",
       "      <th>thai-lan</th>\n",
       "      <td>71404638</td>\n",
       "    </tr>\n",
       "    <tr>\n",
       "      <th>tho-nhi-ky</th>\n",
       "      <td>90009384</td>\n",
       "    </tr>\n",
       "    <tr>\n",
       "      <th>trieu-tien</th>\n",
       "      <td>27873259</td>\n",
       "    </tr>\n",
       "    <tr>\n",
       "      <th>trung-quoc</th>\n",
       "      <td>1552721030</td>\n",
       "    </tr>\n",
       "    <tr>\n",
       "      <th>turkmenistan</th>\n",
       "      <td>6434695</td>\n",
       "    </tr>\n",
       "    <tr>\n",
       "      <th>uzbekistan</th>\n",
       "      <td>35770215</td>\n",
       "    </tr>\n",
       "    <tr>\n",
       "      <th>viet-nam</th>\n",
       "      <td>102447328</td>\n",
       "    </tr>\n",
       "    <tr>\n",
       "      <th>yemen</th>\n",
       "      <td>34281289</td>\n",
       "    </tr>\n",
       "  </tbody>\n",
       "</table>\n",
       "</div>"
      ],
      "text/plain": [
       "                                      Population\n",
       "bermuda                                    61079\n",
       "canada                                  39368708\n",
       "greenland                                  53151\n",
       "hoa-ky                                 343550180\n",
       "saint-pierre-va-miquelon                    5534\n",
       "a-rap-xe-ut                             39604434\n",
       "afghanistan                             44679874\n",
       "an-do                                 1456719081\n",
       "armenia                                  2556170\n",
       "azerbaijan                              10539188\n",
       "bahrain                                  1932627\n",
       "bangladesh                             178716532\n",
       "bhutan                                    819667\n",
       "brunei                                    476090\n",
       "cac-tieu-vuong-quoc-a-rap-thong-nhat    12568971\n",
       "campuchia                               18598649\n",
       "cong-hoa-sip                             1328129\n",
       "dai-loan                                23756794\n",
       "dong-timo                                1433681\n",
       "georgia                                  3340919\n",
       "han-quoc                                51910887\n",
       "hong-kong                                7688539\n",
       "indonesia                              290693601\n",
       "iran                                    89767510\n",
       "iraq                                    44894608\n",
       "israel                                   8956571\n",
       "jordan                                  11935404\n",
       "kazakhstan                              17992930\n",
       "kuwait                                   4775312\n",
       "kyrgyzstan                               6759130\n",
       "lao                                      7922233\n",
       "lebanon                                  7995586\n",
       "ma-cao                                    731977\n",
       "malaysia                                35752993\n",
       "maldives                                  602385\n",
       "mong-co                                  3433054\n",
       "myanmar                                 56641154\n",
       "nepal                                   30979230\n",
       "nhat-ban                               124481585\n",
       "oman                                     5760103\n",
       "pakistan                               246388435\n",
       "palestine                                5814624\n",
       "philippines                            120104823\n",
       "qatar                                    3597470\n",
       "singapore                                6613725\n",
       "sri-lanka                               23010224\n",
       "syria                                   19057557\n",
       "tajikistan                              10234734\n",
       "thai-lan                                71404638\n",
       "tho-nhi-ky                              90009384\n",
       "trieu-tien                              27873259\n",
       "trung-quoc                            1552721030\n",
       "turkmenistan                             6434695\n",
       "uzbekistan                              35770215\n",
       "viet-nam                               102447328\n",
       "yemen                                   34281289"
      ]
     },
     "execution_count": 98,
     "metadata": {},
     "output_type": "execute_result"
    },
    {
     "data": {
      "image/png": "[encoded data removed]",
      "text/plain": [
       "<Figure size 640x480 with 1 Axes>"
      ]
     },
     "metadata": {},
     "output_type": "display_data"
    }
   ],
   "source": [
    "# Get the predict data into a dictionary\n",
    "popPredict={}\n",
    "for i in range(0,len(listCountry)):\n",
    "    powFieldValue, minRFieldValue = findTheBestNForMinRField(listCountry[i],listField[5],df)\n",
    "    # printInfoField(listCountry[i],listField[2],powFieldValue, minRFieldValue)\n",
    "    predictYear = 2025\n",
    "    # predictField(listCountry[i],listField[2],df,predictYear,powFieldValue)\n",
    "    popPredict.setdefault(listCountry[i],predictField(listCountry[i],listField[2],df,predictYear,powFieldValue))\n",
    "# Visualize\n",
    "popPredict=pd.DataFrame.from_dict(popPredict,orient='index',columns=['Population'])\n",
    "popPredict.plot.bar()\n",
    "# Show data\n",
    "popPredict.reset_index().rename({'index':'Country'},inplace=True)\n",
    "popPredict"
   ]
  },
  {
   "attachments": {},
   "cell_type": "markdown",
   "metadata": {},
   "source": [
    "### 3. Predict urbanization of country in area"
   ]
  },
  {
   "attachments": {},
   "cell_type": "markdown",
   "metadata": {},
   "source": [
    "- This question will have user to get the urbanization of this area, it will provide the population structure.\n",
    "- This question will help user to predict the development of this area."
   ]
  },
  {
   "cell_type": "code",
   "execution_count": 99,
   "metadata": {},
   "outputs": [
    {
     "data": {
      "text/html": [
       "<div>\n",
       "<style scoped>\n",
       "    .dataframe tbody tr th:only-of-type {\n",
       "        vertical-align: middle;\n",
       "    }\n",
       "\n",
       "    .dataframe tbody tr th {\n",
       "        vertical-align: top;\n",
       "    }\n",
       "\n",
       "    .dataframe thead th {\n",
       "        text-align: right;\n",
       "    }\n",
       "</style>\n",
       "<table border=\"1\" class=\"dataframe\">\n",
       "  <thead>\n",
       "    <tr style=\"text-align: right;\">\n",
       "      <th></th>\n",
       "      <th>Urbanization predict</th>\n",
       "    </tr>\n",
       "  </thead>\n",
       "  <tbody>\n",
       "    <tr>\n",
       "      <th>2021</th>\n",
       "      <td>2744790462</td>\n",
       "    </tr>\n",
       "    <tr>\n",
       "      <th>2022</th>\n",
       "      <td>2805060583</td>\n",
       "    </tr>\n",
       "    <tr>\n",
       "      <th>2023</th>\n",
       "      <td>2866084979</td>\n",
       "    </tr>\n",
       "    <tr>\n",
       "      <th>2024</th>\n",
       "      <td>2927863650</td>\n",
       "    </tr>\n",
       "    <tr>\n",
       "      <th>2025</th>\n",
       "      <td>2990396595</td>\n",
       "    </tr>\n",
       "    <tr>\n",
       "      <th>2026</th>\n",
       "      <td>3053683816</td>\n",
       "    </tr>\n",
       "    <tr>\n",
       "      <th>2027</th>\n",
       "      <td>3117725311</td>\n",
       "    </tr>\n",
       "    <tr>\n",
       "      <th>2028</th>\n",
       "      <td>3182521080</td>\n",
       "    </tr>\n",
       "    <tr>\n",
       "      <th>2029</th>\n",
       "      <td>3248071125</td>\n",
       "    </tr>\n",
       "    <tr>\n",
       "      <th>2030</th>\n",
       "      <td>3314375444</td>\n",
       "    </tr>\n",
       "  </tbody>\n",
       "</table>\n",
       "</div>"
      ],
      "text/plain": [
       "      Urbanization predict\n",
       "2021            2744790462\n",
       "2022            2805060583\n",
       "2023            2866084979\n",
       "2024            2927863650\n",
       "2025            2990396595\n",
       "2026            3053683816\n",
       "2027            3117725311\n",
       "2028            3182521080\n",
       "2029            3248071125\n",
       "2030            3314375444"
      ]
     },
     "execution_count": 99,
     "metadata": {},
     "output_type": "execute_result"
    },
    {
     "data": {
      "image/png": "[encoded data removed]",
      "text/plain": [
       "<Figure size 640x480 with 1 Axes>"
      ]
     },
     "metadata": {},
     "output_type": "display_data"
    }
   ],
   "source": [
    "predictUrbanization={}\n",
    "powFieldValue, minRFieldValue = findTheBestNForMinRField('Area',listField[5],popInfo)\n",
    "for i in range (2021,2031):\n",
    "    predictYear = i\n",
    "    predictUrbanization.setdefault(i,predictField('Area',listField[5],popInfo,predictYear,powFieldValue))\n",
    "\n",
    "# Trans the data into dataframe\n",
    "predictUrbanization=pd.DataFrame.from_dict(predictUrbanization,orient='index',columns=['Urbanization predict'])\n",
    "#Visualize\n",
    "predictUrbanization.plot()\n",
    "#Show\n",
    "predictUrbanization"
   ]
  },
  {
   "attachments": {},
   "cell_type": "markdown",
   "metadata": {},
   "source": [
    "### 4.Predict migration of country in area in 2025"
   ]
  },
  {
   "attachments": {},
   "cell_type": "markdown",
   "metadata": {},
   "source": [
    "- This question will get the predict of migration of each country in this area, it will help user to know which country that people leave (migration) and which country that people come to (immigration)\n",
    "- User can get some choice if they want to go to some where to live."
   ]
  },
  {
   "cell_type": "code",
   "execution_count": 100,
   "metadata": {},
   "outputs": [
    {
     "name": "stdout",
     "output_type": "stream",
     "text": [
      "In 2025 the migration will move from ['a-rap-xe-ut', 'afghanistan', 'an-do', 'azerbaijan', 'bahrain', 'bermuda', 'campuchia', 'canada', 'cong-hoa-sip', 'georgia', 'han-quoc', 'hoa-ky', 'hong-kong', 'indonesia', 'iran', 'iraq', 'israel', 'kuwait', 'ma-cao', 'malaysia', 'maldives', 'mong-co', 'myanmar', 'nepal', 'nhat-ban', 'oman', 'palestine', 'philippines', 'qatar', 'saint-pierre-va-miquelon', 'singapore', 'tajikistan', 'thai-lan', 'tho-nhi-ky', 'trieu-tien', 'trung-quoc', 'turkmenistan', 'uzbekistan'] to ['armenia', 'bangladesh', 'bhutan', 'brunei', 'cac-tieu-vuong-quoc-a-rap-thong-nhat', 'dai-loan', 'dong-timo', 'greenland', 'jordan', 'kazakhstan', 'kyrgyzstan', 'lao', 'lebanon', 'pakistan', 'sri-lanka', 'syria', 'viet-nam', 'yemen']\n"
     ]
    }
   ],
   "source": [
    "# Get the predict of migration and save it to an array.\n",
    "newDfPop=df.groupby(['Country','Year']).sum().reset_index()\n",
    "migrantCountries=(newDfPop['Year']==2020)\n",
    "temp=newDfPop.loc[migrantCountries]['Country'].reset_index()\n",
    "migrateCountry=[]\n",
    "immigrateCountry=[]\n",
    "for i in range(0,len(temp['Country'])):\n",
    "    powFieldValue, minRFieldValue = findTheBestNForMinRField(temp['Country'][i],listField[4],df)\n",
    "    # printInfoField('World',listField[5],powFieldValue, minRFieldValue)\n",
    "    predictYear = 2025\n",
    "    # predictField(temp['Country'][i],listField[4],df,predictYear,powFieldValue)\n",
    "    if predictField(temp['Country'][i],listField[4],df,predictYear,powFieldValue)>0:\n",
    "        migrateCountry.append(temp['Country'][i])\n",
    "    else: immigrateCountry.append(temp['Country'][i])\n",
    "#Show\n",
    "print(f\"In 2025 the migration will move from {migrateCountry} to {immigrateCountry}\")\n",
    "\n"
   ]
  },
  {
   "attachments": {},
   "cell_type": "markdown",
   "metadata": {},
   "source": [
    "### 5. Predict popular structure of Country in Year "
   ]
  },
  {
   "attachments": {},
   "cell_type": "markdown",
   "metadata": {},
   "source": [
    "- This question will get for user information about population structure of country and year that user want to know , for example Bermuda in 2025 ,...\n",
    "- It can give user knowledge about changing of population for any purpose that user want to."
   ]
  },
  {
   "cell_type": "code",
   "execution_count": 101,
   "metadata": {},
   "outputs": [],
   "source": [
    "# Write a function to predict and visualize into stacked chart\n",
    "def predictStruct(Country,Year):\n",
    "    indexName=['Population']\n",
    "    popPredict=[]\n",
    "    urbanPredict=[]\n",
    "    powFieldValue, minRFieldValue = findTheBestNForMinRField(Country,listField[5],df)\n",
    "    pop=predictField(Country,listField[2],df,Year,powFieldValue)\n",
    "    urban=predictField(Country,listField[5],df,Year,powFieldValue)\n",
    "    popPredict.append((1-(urban/pop))*100)\n",
    "    urbanPredict.append((urban)*100/pop)\n",
    "    getPredictValue=pd.DataFrame({'Other': popPredict,'Urban_resident': urbanPredict},index=indexName)\n",
    "    getPredictValue.plot.bar(stacked=True)\n",
    "    print(f'Urbanization {urban} and population {pop} of {Country} in {Year} ')\n"
   ]
  },
  {
   "attachments": {},
   "cell_type": "markdown",
   "metadata": {},
   "source": [
    "### Predict for Bermuda in 2025"
   ]
  },
  {
   "cell_type": "code",
   "execution_count": 102,
   "metadata": {},
   "outputs": [
    {
     "name": "stdout",
     "output_type": "stream",
     "text": [
      "Urbanization 59151 and population 61079 of bermuda in 2025 \n"
     ]
    },
    {
     "data": {
      "image/png": "[encoded data removed]",
      "text/plain": [
       "<Figure size 640x480 with 1 Axes>"
      ]
     },
     "metadata": {},
     "output_type": "display_data"
    }
   ],
   "source": [
    "predictStruct(listCountry[0],2025)"
   ]
  },
  {
   "cell_type": "code",
   "execution_count": 103,
   "metadata": {},
   "outputs": [
    {
     "name": "stdout",
     "output_type": "stream",
     "text": [
      "Urbanization 27896455 and population 48335202 of uzbekistan in 2050 \n"
     ]
    },
    {
     "data": {
      "image/png": "[encoded data removed]",
      "text/plain": [
       "<Figure size 640x480 with 1 Axes>"
      ]
     },
     "metadata": {},
     "output_type": "display_data"
    }
   ],
   "source": [
    "predictStruct(listCountry[53],2050)"
   ]
  },
  {
   "attachments": {},
   "cell_type": "markdown",
   "metadata": {},
   "source": [
    "### Predict for Kazakhstan in 2040"
   ]
  },
  {
   "cell_type": "code",
   "execution_count": 104,
   "metadata": {},
   "outputs": [
    {
     "name": "stdout",
     "output_type": "stream",
     "text": [
      "Urbanization 7439542 and population 15152625 of kazakhstan in 2070 \n"
     ]
    },
    {
     "data": {
      "image/png": "[encoded data removed]",
      "text/plain": [
       "<Figure size 640x480 with 1 Axes>"
      ]
     },
     "metadata": {},
     "output_type": "display_data"
    }
   ],
   "source": [
    "predictStruct(listCountry[27],2040)"
   ]
  }
 ],
 "metadata": {
  "kernelspec": {
   "display_name": "Python 3",
   "language": "python",
   "name": "python3"
  },
  "language_info": {
   "codemirror_mode": {
    "name": "ipython",
    "version": 3
   },
   "file_extension": ".py",
   "mimetype": "text/x-python",
   "name": "python",
   "nbconvert_exporter": "python",
   "pygments_lexer": "ipython3",
   "version": "3.10.5 (tags/v3.10.5:f377153, Jun  6 2022, 16:14:13) [MSC v.1929 64 bit (AMD64)]"
  },
  "orig_nbformat": 4,
  "vscode": {
   "interpreter": {
    "hash": "492026b9eac7591fb84f76b942cb0bbc9232bf1a82b6001cb00491b10959a3ad"
   }
  }
 },
 "nbformat": 4,
 "nbformat_minor": 2
}
